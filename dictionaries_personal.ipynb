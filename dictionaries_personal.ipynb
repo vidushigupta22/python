{
 "cells": [
  {
   "cell_type": "code",
   "execution_count": 10,
   "metadata": {},
   "outputs": [],
   "source": [
    "\n",
    "my_dict = {\n",
    "    'name' : 'vidushi',\n",
    "    'age' : 22,\n",
    "    'qualification' : 'Commerce graduate',\n",
    "    'another_dict' : {                       # one can insert another dictionary in dictionary\n",
    "        'key_areas' : 'programming'\n",
    "        }\n",
    "    }\n",
    "\n",
    "\n",
    "# retrieve data from dictionaries\n",
    "\n",
    "print(my_dict['name'])\n",
    "print(my_dict['another_dict']['key_areas'])\n",
    "\n"
   ]
  },
  {
   "cell_type": "code",
   "execution_count": 14,
   "metadata": {},
   "outputs": [
    {
     "name": "stdout",
     "output_type": "stream",
     "text": [
      "[20]\n"
     ]
    }
   ],
   "source": [
    "# if you change values of the keys, then it replaces the old values\n",
    "\n",
    "my_dict['age'] = [20]\n",
    "\n",
    "print(my_dict['age'])"
   ]
  },
  {
   "cell_type": "code",
   "execution_count": 16,
   "metadata": {},
   "outputs": [
    {
     "name": "stdout",
     "output_type": "stream",
     "text": [
      "dict_keys(['name', 'age', 'qualification', 'another_dict'])\n"
     ]
    }
   ],
   "source": [
    "# methods or functions of dictionaries\n",
    "\n",
    "print(my_dict.keys())  # to view the keys of the dictionaries"
   ]
  },
  {
   "cell_type": "code",
   "execution_count": 17,
   "metadata": {},
   "outputs": [
    {
     "name": "stdout",
     "output_type": "stream",
     "text": [
      "dict_values(['vidushi', [20], 'Commerce graduate', {'key_areas': 'programming'}])\n"
     ]
    }
   ],
   "source": [
    "print(my_dict.values())  # to view the values of the keys"
   ]
  },
  {
   "cell_type": "code",
   "execution_count": 18,
   "metadata": {},
   "outputs": [
    {
     "name": "stdout",
     "output_type": "stream",
     "text": [
      "dict_items([('name', 'vidushi'), ('age', [20]), ('qualification', 'Commerce graduate'), ('another_dict', {'key_areas': 'programming'})])\n"
     ]
    }
   ],
   "source": [
    "print(my_dict.items()) # print both key and values in the form of tuples"
   ]
  },
  {
   "cell_type": "code",
   "execution_count": 26,
   "metadata": {},
   "outputs": [
    {
     "name": "stdout",
     "output_type": "stream",
     "text": [
      "{'name': 'vidushi', 'age': [20], 'qualification': 'Commerce graduate', 'another_dict': {'key_areas': 'programming'}, 'freinds': 'forever'}\n"
     ]
    }
   ],
   "source": [
    "# to add new keys and values in the dictionary\n",
    "\n",
    "update_mydict = {\n",
    "    'freinds' : 'forever'\n",
    "}\n",
    "\n",
    "my_dict.update(update_mydict)\n",
    "\n",
    "print(my_dict)"
   ]
  },
  {
   "cell_type": "code",
   "execution_count": 31,
   "metadata": {},
   "outputs": [
    {
     "name": "stdout",
     "output_type": "stream",
     "text": [
      "vidushi\n",
      "vidushi\n"
     ]
    }
   ],
   "source": [
    "print(my_dict['name'])  # prints the value associated with key \"name\"\n",
    "\n",
    "print(my_dict.get('name'))  # prints the value associated with key \"name\"\n"
   ]
  },
  {
   "cell_type": "code",
   "execution_count": 34,
   "metadata": {},
   "outputs": [
    {
     "ename": "KeyError",
     "evalue": "'name2'",
     "output_type": "error",
     "traceback": [
      "\u001b[1;31m---------------------------------------------------------------------------\u001b[0m",
      "\u001b[1;31mKeyError\u001b[0m                                  Traceback (most recent call last)",
      "\u001b[1;32mc:\\Users\\user\\Documents\\python\\dictionaries_personal.ipynb Cell 8'\u001b[0m in \u001b[0;36m<cell line: 3>\u001b[1;34m()\u001b[0m\n\u001b[0;32m      <a href='vscode-notebook-cell:/c%3A/Users/user/Documents/python/dictionaries_personal.ipynb#ch0000008?line=0'>1</a>\u001b[0m \u001b[39m# difference b/w .get and [ ] syntax in dictionary\u001b[39;00m\n\u001b[1;32m----> <a href='vscode-notebook-cell:/c%3A/Users/user/Documents/python/dictionaries_personal.ipynb#ch0000008?line=2'>3</a>\u001b[0m \u001b[39mprint\u001b[39m(my_dict[\u001b[39m'\u001b[39;49m\u001b[39mname2\u001b[39;49m\u001b[39m'\u001b[39;49m])\n\u001b[0;32m      <a href='vscode-notebook-cell:/c%3A/Users/user/Documents/python/dictionaries_personal.ipynb#ch0000008?line=4'>5</a>\u001b[0m \u001b[39mprint\u001b[39m(my_dict\u001b[39m.\u001b[39mget(\u001b[39m'\u001b[39m\u001b[39mname2\u001b[39m\u001b[39m'\u001b[39m))\n",
      "\u001b[1;31mKeyError\u001b[0m: 'name2'"
     ]
    }
   ],
   "source": [
    "# difference b/w .get and [ ] syntax in dictionary\n",
    "\n",
    "print(my_dict['name2']) # returns an error as \"name2\" is not present in the dictionary\n",
    "\n",
    "print(my_dict.get('name2')) # returns an NONE as \"name2\" is not present in the dictionary"
   ]
  },
  {
   "cell_type": "code",
   "execution_count": null,
   "metadata": {},
   "outputs": [],
   "source": []
  }
 ],
 "metadata": {
  "interpreter": {
   "hash": "fb4569285eef3a3450cb62085a5b1e0da4bce0af555edc33dcf29baf3acc1368"
  },
  "kernelspec": {
   "display_name": "Python 3.10.2 64-bit",
   "language": "python",
   "name": "python3"
  },
  "language_info": {
   "codemirror_mode": {
    "name": "ipython",
    "version": 3
   },
   "file_extension": ".py",
   "mimetype": "text/x-python",
   "name": "python",
   "nbconvert_exporter": "python",
   "pygments_lexer": "ipython3",
   "version": "3.10.2"
  },
  "orig_nbformat": 4
 },
 "nbformat": 4,
 "nbformat_minor": 2
}

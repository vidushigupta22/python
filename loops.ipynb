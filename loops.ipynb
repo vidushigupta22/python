{
 "cells": [
  {
   "cell_type": "code",
   "execution_count": 1,
   "metadata": {},
   "outputs": [
    {
     "name": "stdout",
     "output_type": "stream",
     "text": [
      "P\n",
      "Y\n",
      "T\n",
      "H\n",
      "O\n",
      "N\n",
      " \n",
      "i\n",
      "s\n"
     ]
    }
   ],
   "source": [
    "# for loop\n",
    "\n",
    "x = 'PYTHON is'\n",
    "for i in x:\n",
    "    print(i)"
   ]
  },
  {
   "cell_type": "code",
   "execution_count": 13,
   "metadata": {},
   "outputs": [
    {
     "name": "stdout",
     "output_type": "stream",
     "text": [
      "o,n,c,e,"
     ]
    }
   ],
   "source": [
    "story = 'once'\n",
    "\n",
    "for char in story:\n",
    "    print(char,end = ',')"
   ]
  },
  {
   "cell_type": "code",
   "execution_count": 14,
   "metadata": {},
   "outputs": [
    {
     "name": "stdout",
     "output_type": "stream",
     "text": [
      "Hi I am alice\n",
      "Hi I am bob\n",
      "Hi I am charlie\n",
      "Hi I am david\n",
      "Hi I am eve\n",
      "Hi I am frank\n"
     ]
    }
   ],
   "source": [
    "names = ['alice','bob','charlie','david','eve','frank']\n",
    "\n",
    "for name in names:\n",
    "    print('Hi I am '+ name)\n",
    "    \n",
    "    # if you want to print them horizantly instead of vertically , one can use end , check the above example \n",
    "    \n",
    "    \n"
   ]
  },
  {
   "cell_type": "code",
   "execution_count": 15,
   "metadata": {},
   "outputs": [
    {
     "name": "stdout",
     "output_type": "stream",
     "text": [
      "I have apple\n",
      "I have banana\n",
      "I have lemon\n"
     ]
    }
   ],
   "source": [
    "fruits = ['apple','banana','lemon']\n",
    "\n",
    "for item in fruits:\n",
    "    print(f'I have {item}')"
   ]
  },
  {
   "cell_type": "code",
   "execution_count": 16,
   "metadata": {},
   "outputs": [
    {
     "name": "stdout",
     "output_type": "stream",
     "text": [
      "i got point 10\n",
      "i got point 12\n",
      "i got point 14\n",
      "i got point 16\n",
      "i got point 18\n"
     ]
    }
   ],
   "source": [
    "# range is an itrreable in order to make your loop work for fixed length( like from start to end)\n",
    "# range contains thrre steps 1st the start 2nd stop 3rd(optional) in order to give gap betwwen 2 consecutive numbers\n",
    "# in range the values will stop at n-1 just like in slicing\n",
    "\n",
    "for i in range(10,20,2):\n",
    "    print('i got point',i)\n",
    "\n"
   ]
  },
  {
   "cell_type": "code",
   "execution_count": 17,
   "metadata": {},
   "outputs": [
    {
     "name": "stdout",
     "output_type": "stream",
     "text": [
      "sheep 2\n",
      "sheep 3\n",
      "sheep 4\n",
      "sheep 5\n",
      "sheep 6\n",
      "sheep 7\n",
      "sheep 8\n",
      "sheep 9\n",
      "sheep 10\n"
     ]
    }
   ],
   "source": [
    "for values in range(2,11):\n",
    "    print('sheep',values)"
   ]
  },
  {
   "cell_type": "code",
   "execution_count": 18,
   "metadata": {},
   "outputs": [
    {
     "name": "stdout",
     "output_type": "stream",
     "text": [
      "10\n",
      "9\n",
      "8\n",
      "7\n",
      "6\n"
     ]
    }
   ],
   "source": [
    "# for reverse loop we will use the range function and in that we will use negative to make the loop work in reverse order\n",
    "\n",
    "for num in range(10,5,-1):\n",
    "    print(num)"
   ]
  },
  {
   "cell_type": "code",
   "execution_count": 19,
   "metadata": {},
   "outputs": [
    {
     "name": "stdout",
     "output_type": "stream",
     "text": [
      "\n",
      "Na\n",
      "NaNa\n",
      "NaNaNa\n",
      "NaNaNaNa\n",
      "NaNaNaNaNa\n",
      "NaNaNaNaNaNa\n",
      "NaNaNaNaNaNaNa\n",
      "NaNaNaNaNaNaNaNa\n",
      "NaNaNaNaNaNaNaNaNa\n"
     ]
    }
   ],
   "source": [
    "# pattern loop\n",
    "\n",
    "for i in range(10):\n",
    "    print(i*'Na')"
   ]
  },
  {
   "cell_type": "code",
   "execution_count": 20,
   "metadata": {},
   "outputs": [
    {
     "name": "stdout",
     "output_type": "stream",
     "text": [
      "1275\n"
     ]
    }
   ],
   "source": [
    "# WAP to calculate the sum of all numbers from 1 to 50\n",
    "\n",
    "values = 0\n",
    "for i in range(1,51):\n",
    "     values = values+i\n",
    "print(values)\n",
    "   \n",
    "     "
   ]
  },
  {
   "cell_type": "code",
   "execution_count": 28,
   "metadata": {},
   "outputs": [
    {
     "name": "stdout",
     "output_type": "stream",
     "text": [
      "1683\n"
     ]
    }
   ],
   "source": [
    "# wap to add all the numbers that are divisible by 3 ranging from 1 to 100\n",
    "\n",
    "values = 0\n",
    "for i in range(1,101):\n",
    "    if(i%3==0):\n",
    "        values = values + i\n",
    "print(values)\n",
    "    "
   ]
  },
  {
   "cell_type": "code",
   "execution_count": 31,
   "metadata": {},
   "outputs": [
    {
     "name": "stdout",
     "output_type": "stream",
     "text": [
      "1683\n"
     ]
    }
   ],
   "source": [
    "#or\n",
    "\n",
    "total = 0\n",
    "for i in range(3,100,3):\n",
    "  total = total + i\n",
    "print(total)\n",
    " "
   ]
  },
  {
   "cell_type": "code",
   "execution_count": 22,
   "metadata": {},
   "outputs": [
    {
     "name": "stdout",
     "output_type": "stream",
     "text": [
      "50.0\n"
     ]
    }
   ],
   "source": [
    "# wap to calculate the average of all numbers from 1 to 100\n",
    "\n",
    "total = 0\n",
    "for i in range(1,100):\n",
    "    total = total+i\n",
    "print(total/99)"
   ]
  },
  {
   "cell_type": "code",
   "execution_count": 8,
   "metadata": {},
   "outputs": [
    {
     "name": "stdout",
     "output_type": "stream",
     "text": [
      "run\n",
      "run\n",
      "run\n",
      "run\n",
      "stop\n"
     ]
    }
   ],
   "source": [
    "# for loop is a step based loop where number of steps are defined but while loop works upon the condition, works till the condition becomes false \n",
    "\n",
    "x = 1\n",
    "while x < 5:\n",
    "    print('run')\n",
    "    x = x+1  \n",
    "print('stop')"
   ]
  },
  {
   "cell_type": "code",
   "execution_count": 2,
   "metadata": {},
   "outputs": [
    {
     "name": "stdout",
     "output_type": "stream",
     "text": [
      "the sum is 55\n"
     ]
    }
   ],
   "source": [
    "n = 10\n",
    "sum = 0\n",
    "i = 1\n",
    "\n",
    "while(i<=n):\n",
    "    sum = sum+i\n",
    "    i = i+1\n",
    "print('the sum is', sum)\n",
    "    "
   ]
  },
  {
   "cell_type": "code",
   "execution_count": 10,
   "metadata": {},
   "outputs": [
    {
     "name": "stdout",
     "output_type": "stream",
     "text": [
      "1\n",
      "2\n",
      "3\n",
      "4\n",
      "5\n",
      "6\n",
      "stop\n"
     ]
    }
   ],
   "source": [
    "# break stops the loop while meeting upon the certain conditions \n",
    "\n",
    "data = [1,2,3,4,5,6,-1,7,8,9]\n",
    "\n",
    "for val in data:\n",
    "    if val < 0:\n",
    "        break\n",
    "    print(val)\n",
    "print('stop')\n",
    "\n"
   ]
  },
  {
   "cell_type": "code",
   "execution_count": 11,
   "metadata": {},
   "outputs": [
    {
     "name": "stdout",
     "output_type": "stream",
     "text": [
      "1\n",
      "2\n",
      "3\n",
      "4\n",
      "5\n",
      "6\n",
      "7\n",
      "8\n"
     ]
    }
   ],
   "source": [
    "for i in range(1,100):\n",
    "    print(i)\n",
    "    if i%8 ==0:\n",
    "        break"
   ]
  },
  {
   "cell_type": "code",
   "execution_count": 12,
   "metadata": {},
   "outputs": [
    {
     "name": "stdout",
     "output_type": "stream",
     "text": [
      "you enteredlaptop\n",
      "you enteredcharger\n",
      "you enteredcharger\n",
      "you enteredmouse\n",
      "the end\n"
     ]
    }
   ],
   "source": [
    "size = 100\n",
    "start = 1\n",
    "\n",
    "while(start<=size):\n",
    "    name = input('enter a name of the product')\n",
    "    if name =='end':\n",
    "        break\n",
    "    print(f'you entered {name}')\n",
    "    start = start+2\n",
    "print('the end')\n",
    "\n",
    "\n"
   ]
  },
  {
   "cell_type": "code",
   "execution_count": null,
   "metadata": {},
   "outputs": [],
   "source": [
    "# now continue works if it matches the specific condition it will escape the code below and will directly move towards the start of loop\n",
    "\n",
    "names = ['bob','david',]"
   ]
  },
  {
   "cell_type": "code",
   "execution_count": 13,
   "metadata": {},
   "outputs": [
    {
     "name": "stdout",
     "output_type": "stream",
     "text": [
      "you have written\n",
      "I met a boy\n",
      "who has two pencils\n",
      "I dont have any pencil\n",
      "i asked to borrow the pencil\n",
      "He refused\n",
      "I find rude\n",
      "and here the story ends\n",
      "\n"
     ]
    }
   ],
   "source": [
    "story = ''\n",
    "while True:   # while true means the loop will wirk for infinte times\n",
    "    line = input('enter a line')\n",
    "    if line == 'end':\n",
    "        break\n",
    "    else:\n",
    "        story = story+line+'\\n'\n",
    "print('you have written')\n",
    "print(story)\n",
    "    "
   ]
  },
  {
   "cell_type": "code",
   "execution_count": 14,
   "metadata": {},
   "outputs": [
    {
     "name": "stdout",
     "output_type": "stream",
     "text": [
      "we have  apple\n",
      "we have  bnana\n",
      "we have  mango\n",
      "that's all\n"
     ]
    }
   ],
   "source": [
    "fruits = ['apple','bnana','mango']\n",
    "for fruit in fruits:\n",
    "    print('we have ',fruit)\n",
    "else:\n",
    "    print(\"that's all\")\n",
    "    "
   ]
  },
  {
   "cell_type": "code",
   "execution_count": 3,
   "metadata": {},
   "outputs": [
    {
     "name": "stdout",
     "output_type": "stream",
     "text": [
      "45366 is not a prime number \n"
     ]
    }
   ],
   "source": [
    "number = int(input('enter a number'))\n",
    "for i in range(2,number):\n",
    "    if number % i ==0:\n",
    "        print(f'{number} is not a prime number ')\n",
    "        break\n",
    "else:\n",
    "    print(f'{number} is a prime number')    "
   ]
  },
  {
   "cell_type": "code",
   "execution_count": 24,
   "metadata": {},
   "outputs": [
    {
     "name": "stdout",
     "output_type": "stream",
     "text": [
      "the sum of 1234 digits is 10\n"
     ]
    }
   ],
   "source": [
    "# WAP to add all the numbers of the digit using loop\n",
    "# eg 1234 becomes 10 \n",
    "# using while          \n",
    "\n",
    "\n",
    "s = 0\n",
    "num = int(input(\"enter a number\"))\n",
    "orignal = num\n",
    "#1234\n",
    "while(num != 0):\n",
    "    div = num % 10\n",
    "    s = s + div\n",
    "    num =  num // 10\n",
    "    \n",
    "print('the sum of',orignal,'digits is', s)"
   ]
  },
  {
   "cell_type": "code",
   "execution_count": 25,
   "metadata": {},
   "outputs": [
    {
     "name": "stdout",
     "output_type": "stream",
     "text": [
      "10\n"
     ]
    }
   ],
   "source": [
    "# WAP to add all the numbers of the digit using loop\n",
    "# eg 1234 becomes 10 \n",
    "# using for     \n",
    " sum = 0\n",
    " \n",
    " number = input('enter a no.')\n",
    " \n",
    " for i in number:\n",
    "     i = int(i)\n",
    "     sum = sum + i\n",
    "     \n",
    "print(sum)\n"
   ]
  },
  {
   "cell_type": "code",
   "execution_count": 8,
   "metadata": {},
   "outputs": [
    {
     "name": "stdout",
     "output_type": "stream",
     "text": [
      "4321"
     ]
    }
   ],
   "source": [
    "# enter a number and print thr reverse of it\n",
    "# eg  output -> 1234 -->4321\n",
    "\n",
    "i = 0\n",
    "\n",
    "num = int(input(\"enter a number dude\"))\n",
    "\n",
    "while(num != 0):\n",
    "    r = num % 10\n",
    "    i = print(r,end = '')\n",
    "    num = num // 10\n",
    "    \n"
   ]
  },
  {
   "cell_type": "code",
   "execution_count": 14,
   "metadata": {},
   "outputs": [
    {
     "name": "stdout",
     "output_type": "stream",
     "text": [
      "0 a\n",
      "1 b\n",
      "2 c\n",
      "3 d\n",
      "4 e\n",
      "5 f\n",
      "6 g\n",
      "7 h\n",
      "8 i\n",
      "9 j\n",
      "10 k\n"
     ]
    }
   ],
   "source": [
    "# enumerate is used to tell the index of the values present in the list\n",
    "\n",
    "alphas=['a','b','c','d','e','f','g','h','i','j','k','l','m','n','o','p','q','r','s','t','u','v','w','x','y','z']\n",
    "\n",
    "for i,name in enumerate(alphas):\n",
    "    print(i,name)\n",
    "    if i == 10:\n",
    "        break\n",
    "\n"
   ]
  },
  {
   "cell_type": "code",
   "execution_count": 1,
   "metadata": {},
   "outputs": [
    {
     "name": "stdout",
     "output_type": "stream",
     "text": [
      "abcdefghijklmnopqrstuvwxyz\n"
     ]
    }
   ],
   "source": [
    "#OR \n",
    "\n",
    "from string import ascii_lowercase\n",
    "print(ascii_lowercase)\n"
   ]
  },
  {
   "cell_type": "code",
   "execution_count": 9,
   "metadata": {},
   "outputs": [
    {
     "name": "stdout",
     "output_type": "stream",
     "text": [
      "bob ['one love', 'exodus', 'style', 'willow']\n",
      "marley ['one love', 'exodus', 'style', 'willow']\n",
      "taylor ['one love', 'exodus', 'style', 'willow']\n",
      "swift ['one love', 'exodus', 'style', 'willow']\n"
     ]
    }
   ],
   "source": [
    "# exaple 1(zip)\n",
    "artist = ['bob','marley','taylor','swift']\n",
    "songs = ['one love','exodus','style','willow']\n",
    "\n",
    "for a in artist:\n",
    "    print(a , songs)\n",
    "\n",
    "# to write both the list together, taking items one by one , we use zip function \n",
    "# zip binds the items  together present at same index "
   ]
  },
  {
   "cell_type": "code",
   "execution_count": 12,
   "metadata": {},
   "outputs": [
    {
     "name": "stdout",
     "output_type": "stream",
     "text": [
      "bob,one love\n",
      "marley,exodus\n",
      "taylor,style\n",
      "swift,willow\n"
     ]
    }
   ],
   "source": [
    "# example 2(zip)\n",
    "artist = ['bob','marley','taylor','swift']\n",
    "songs = ['one love','exodus','style','willow']\n",
    "\n",
    "for a,s in zip (artist,songs):\n",
    "    print(a , s,sep =',')"
   ]
  },
  {
   "cell_type": "code",
   "execution_count": 4,
   "metadata": {},
   "outputs": [
    {
     "name": "stdout",
     "output_type": "stream",
     "text": [
      " 12 apple costs 100.0\n",
      " 15 banana costs 40.0\n",
      " 100 cherry costs 120.0\n",
      " 50 date costs 25.0\n"
     ]
    }
   ],
   "source": [
    "fruits=['apple','banana','cherry','date','eggplant']\n",
    "prices = [100.00,40.00,120.00,25.00]\n",
    "qty = [12,15,100,50,3]\n",
    "for fr,pr,qt in zip(fruits,prices,qty):\n",
    "    \n",
    "    print(f' {qt} {fr} costs {pr}')\n"
   ]
  },
  {
   "cell_type": "code",
   "execution_count": null,
   "metadata": {},
   "outputs": [],
   "source": []
  }
 ],
 "metadata": {
  "interpreter": {
   "hash": "fb4569285eef3a3450cb62085a5b1e0da4bce0af555edc33dcf29baf3acc1368"
  },
  "kernelspec": {
   "display_name": "Python 3.10.2 64-bit",
   "language": "python",
   "name": "python3"
  },
  "language_info": {
   "codemirror_mode": {
    "name": "ipython",
    "version": 3
   },
   "file_extension": ".py",
   "mimetype": "text/x-python",
   "name": "python",
   "nbconvert_exporter": "python",
   "pygments_lexer": "ipython3",
   "version": "3.10.2"
  },
  "orig_nbformat": 4
 },
 "nbformat": 4,
 "nbformat_minor": 2
}

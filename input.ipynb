{
 "cells": [
  {
   "cell_type": "code",
   "execution_count": null,
   "metadata": {},
   "outputs": [],
   "source": [
    "#input output\n",
    "\n",
    "x = input()\n",
    "\n"
   ]
  },
  {
   "cell_type": "code",
   "execution_count": 1,
   "metadata": {},
   "outputs": [],
   "source": [
    "name = input(\"what is your name\")\n",
    "college = input(\"college name\")\n",
    "city = input(\"city name\")\n"
   ]
  },
  {
   "cell_type": "code",
   "execution_count": 2,
   "metadata": {},
   "outputs": [
    {
     "name": "stdout",
     "output_type": "stream",
     "text": [
      "30\n"
     ]
    }
   ],
   "source": [
    "# As input function converts all the variables into string therefore we need to CAST  on the values\n",
    "# Casting function converts string into any given data type\n",
    "\n",
    "num1 = input('enter a num1')\n",
    "num2 = input('enter a num2')\n",
    "num1 = int(num1)\n",
    "num2 = int(num2)\n",
    "print(num1 + num2)"
   ]
  },
  {
   "cell_type": "code",
   "execution_count": 3,
   "metadata": {},
   "outputs": [
    {
     "name": "stdout",
     "output_type": "stream",
     "text": [
      "200\n"
     ]
    }
   ],
   "source": [
    "# Or one can cast directly , where bodmas rule applies. First the inner brackets are going to solve then the outer brackets will solve\n",
    "\n",
    "n1 = int(input('enter a num'))\n",
    "n2 = int(input('enter another num'))\n",
    "print(n1*n2)"
   ]
  },
  {
   "cell_type": "code",
   "execution_count": 2,
   "metadata": {},
   "outputs": [],
   "source": [
    "# there are 5 different ways to display output using PRINT()\n",
    "\n",
    "x = 35\n",
    "y = 20\n",
    "z = x+y"
   ]
  },
  {
   "cell_type": "code",
   "execution_count": 13,
   "metadata": {},
   "outputs": [
    {
     "name": "stdout",
     "output_type": "stream",
     "text": [
      "the value of 35 and 20 is 55\n"
     ]
    }
   ],
   "source": [
    "print('the value of',x,'and',y,'is',z)"
   ]
  },
  {
   "cell_type": "code",
   "execution_count": null,
   "metadata": {},
   "outputs": [],
   "source": [
    "# this method is used in programming language c\n",
    "print('the value of %d and %d is %d(x,y,z)')"
   ]
  },
  {
   "cell_type": "code",
   "execution_count": 3,
   "metadata": {},
   "outputs": [
    {
     "name": "stdout",
     "output_type": "stream",
     "text": [
      "the value of35and20is55\n"
     ]
    }
   ],
   "source": [
    "# this method is used in java\n",
    "print('the value of' +str(x) + 'and' + str(y) + 'is' +str(z))"
   ]
  },
  {
   "cell_type": "code",
   "execution_count": null,
   "metadata": {},
   "outputs": [],
   "source": [
    "# before python 3.6 version"
   ]
  },
  {
   "cell_type": "code",
   "execution_count": 14,
   "metadata": {},
   "outputs": [
    {
     "name": "stdout",
     "output_type": "stream",
     "text": [
      "value of 35 and 20 is 55\n"
     ]
    }
   ],
   "source": [
    "# after python 3.6 version 🎇\n",
    "\n",
    "print(f'value of {x} and {y} is {z}') # this is the most important one and the easiset one"
   ]
  },
  {
   "cell_type": "code",
   "execution_count": 3,
   "metadata": {},
   "outputs": [
    {
     "name": "stdout",
     "output_type": "stream",
     "text": [
      "35 20 55 55 55 55 35 20 35\n",
      "35_20_55_55_55_55_35_20_35\n"
     ]
    }
   ],
   "source": [
    "# by defalut in print function space is given if anyone wants to add something other than space then it 'sep' can be used\n",
    "\n",
    "print(x,y,z,z,z,z,x,y,x,sep = ' ')\n",
    "print(x,y,z,z,z,z,x,y,x,sep = '_')"
   ]
  },
  {
   "cell_type": "code",
   "execution_count": 17,
   "metadata": {},
   "outputs": [
    {
     "name": "stdout",
     "output_type": "stream",
     "text": [
      "hello\n",
      "world_everyone\n"
     ]
    }
   ],
   "source": [
    "''' by default if you use print in 3 different lines then it will print \n",
    "in three different line so to avoid that one can use 'end()' function'''\n",
    "\n",
    "print('hello')\n",
    "print('world', end = '_')\n",
    "print('everyone')"
   ]
  }
 ],
 "metadata": {
  "interpreter": {
   "hash": "fb4569285eef3a3450cb62085a5b1e0da4bce0af555edc33dcf29baf3acc1368"
  },
  "kernelspec": {
   "display_name": "Python 3.10.2 64-bit",
   "language": "python",
   "name": "python3"
  },
  "language_info": {
   "codemirror_mode": {
    "name": "ipython",
    "version": 3
   },
   "file_extension": ".py",
   "mimetype": "text/x-python",
   "name": "python",
   "nbconvert_exporter": "python",
   "pygments_lexer": "ipython3",
   "version": "3.10.2"
  },
  "orig_nbformat": 4
 },
 "nbformat": 4,
 "nbformat_minor": 2
}

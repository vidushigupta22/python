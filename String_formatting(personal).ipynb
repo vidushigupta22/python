{
 "cells": [
  {
   "cell_type": "code",
   "execution_count": null,
   "metadata": {},
   "outputs": [],
   "source": [
    "a = \"vidushi's\" # use this if you have single quotes in your string\n",
    "\n",
    "a = 'vidushi\"s' # use this if you have double quotes in your string\n",
    "\n",
    "a = '''vidushi\"s and\n",
    "        vidushi's''' # use this if you have single quotes and double quotes in your string\n",
    "\n",
    "\n",
    "\n"
   ]
  },
  {
   "cell_type": "code",
   "execution_count": 1,
   "metadata": {},
   "outputs": [
    {
     "name": "stdout",
     "output_type": "stream",
     "text": [
      "ante\n",
      "to meet \n",
      "Encha\n"
     ]
    }
   ],
   "source": [
    "# slicing , in slicing space is also act as a index\n",
    "a = 'Enchanted to meet you'\n",
    "print(a[4:8])\n",
    "print(a[10:18])\n",
    "print(a[:5])"
   ]
  },
  {
   "cell_type": "code",
   "execution_count": 4,
   "metadata": {},
   "outputs": [
    {
     "name": "stdout",
     "output_type": "stream",
     "text": [
      "ante\n"
     ]
    }
   ],
   "source": [
    "# negative index in slicing\n",
    "\n",
    "b =  'Enchanted to meet you'\n",
    "print(b[-17:-13]) # this is same as print(a[4:8]) in positive index given at the above\n",
    " "
   ]
  },
  {
   "cell_type": "code",
   "execution_count": 5,
   "metadata": {},
   "outputs": [
    {
     "name": "stdout",
     "output_type": "stream",
     "text": [
      "at\n"
     ]
    }
   ],
   "source": [
    "# skip value in slicing\n",
    "\n",
    "c =  'Enchanted to meet you'\n",
    "print(c[4:8:2]) # it will skip one value OR it will consider every 2nd value"
   ]
  },
  {
   "cell_type": "code",
   "execution_count": null,
   "metadata": {},
   "outputs": [],
   "source": [
    "#upper case\n",
    "name = 'vidushi'\n",
    "\n",
    "print(name.upper())\n",
    "\n",
    "# lower case\n",
    "\n",
    "x = name.upper()\n",
    "\n",
    "y = x.lower()\n",
    "print(y)"
   ]
  },
  {
   "cell_type": "code",
   "execution_count": null,
   "metadata": {},
   "outputs": [],
   "source": [
    "# Strip\n",
    "\n",
    "color = '    yellow blue'\n",
    "print(color.strip())"
   ]
  },
  {
   "cell_type": "code",
   "execution_count": null,
   "metadata": {},
   "outputs": [],
   "source": [
    "# replace string\n",
    "\n",
    "introduction = 'my name is jidushi'\n",
    "print(introduction.replace('j','v'))"
   ]
  },
  {
   "cell_type": "code",
   "execution_count": null,
   "metadata": {},
   "outputs": [],
   "source": [
    "#concatention string\n",
    "a = 'vidushi'\n",
    "b = 'gupta'\n",
    "c = a + \" \" +b\n",
    "print(c)"
   ]
  },
  {
   "cell_type": "code",
   "execution_count": null,
   "metadata": {},
   "outputs": [],
   "source": [
    "# format string\n",
    "\n",
    "quantity = 3\n",
    "price = 50\n",
    "\n",
    "txt = 'I bought {} kg rice today and they cost me ruppes {}'\n",
    "print(txt.format(quantity,price))"
   ]
  }
 ],
 "metadata": {
  "interpreter": {
   "hash": "5d240ba0dc525c389faa33f5dcce5b4f32b6d6aa6d70d6d2dd929bd2b09ab69f"
  },
  "kernelspec": {
   "display_name": "Python 3.10.2 64-bit",
   "language": "python",
   "name": "python3"
  },
  "language_info": {
   "codemirror_mode": {
    "name": "ipython",
    "version": 3
   },
   "file_extension": ".py",
   "mimetype": "text/x-python",
   "name": "python",
   "nbconvert_exporter": "python",
   "pygments_lexer": "ipython3",
   "version": "3.10.2"
  },
  "orig_nbformat": 4
 },
 "nbformat": 4,
 "nbformat_minor": 2
}

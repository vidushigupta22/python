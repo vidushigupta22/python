{
 "cells": [
  {
   "cell_type": "code",
   "execution_count": 2,
   "metadata": {},
   "outputs": [
    {
     "name": "stdout",
     "output_type": "stream",
     "text": [
      "you see an apple seller\n",
      "purchase 2 kg of apples\n"
     ]
    }
   ],
   "source": [
    "print('you see an apple seller')\n",
    "q = input('do you like apples?')\n",
    "\n",
    "if q =='yes' :\n",
    "    print('purchase 2 kg of apples')\n",
    "if q =='no' :\n",
    "    print('you dont purchase apples')"
   ]
  },
  {
   "cell_type": "code",
   "execution_count": 4,
   "metadata": {},
   "outputs": [
    {
     "name": "stdout",
     "output_type": "stream",
     "text": [
      "x is greater than 5\n",
      "this is the info we needed\n",
      "with this power, comes great responsibility\n",
      "the end\n"
     ]
    }
   ],
   "source": [
    "x = 10\n",
    "if (x>5) :\n",
    "    print('x is greater than 5')\n",
    "    print('this is the info we needed')\n",
    "    print('with this power, comes great responsibility')\n",
    "print('the end')"
   ]
  },
  {
   "cell_type": "code",
   "execution_count": 5,
   "metadata": {},
   "outputs": [
    {
     "name": "stdout",
     "output_type": "stream",
     "text": [
      "wear long pants\n",
      "get some exercise outside\n"
     ]
    }
   ],
   "source": [
    "temp = float(input('what is the tempurature'))\n",
    "\n",
    "if(temp>70):\n",
    "    print('wear shorts')\n",
    "else:\n",
    "    print('wear long pants')\n",
    "print('get some exercise outside')"
   ]
  },
  {
   "cell_type": "code",
   "execution_count": 8,
   "metadata": {},
   "outputs": [
    {
     "name": "stdout",
     "output_type": "stream",
     "text": [
      "your final amt is 378.0\n"
     ]
    }
   ],
   "source": [
    "'''WAP to calculate the total bill of customer , gst is 5%. \n",
    "If the amount is less than 500 then give the discount of 10%, else give discount of 20%'''\n",
    "\n",
    "amt = int(input('enter an amt'))\n",
    "gst = amt * .05\n",
    "total = amt+gst\n",
    "\n",
    "if(total<500):\n",
    "    disc = total *.1\n",
    "    final = total - disc\n",
    "    print(f'your final amt is {final}')\n",
    "else:\n",
    "    disc = total *.2\n",
    "    final = total - disc\n",
    "    print(f'your final amt is {final}')\n",
    "    \n",
    "    \n",
    "    "
   ]
  },
  {
   "cell_type": "code",
   "execution_count": 10,
   "metadata": {},
   "outputs": [
    {
     "name": "stdout",
     "output_type": "stream",
     "text": [
      "D\n"
     ]
    }
   ],
   "source": [
    "score = int(input('your score -->'))\n",
    "\n",
    "if(score>=90):\n",
    "    letter = 'A'\n",
    "elif(score>=80):\n",
    "    letter = 'B'\n",
    "elif(score>=70):\n",
    "    letter = 'C'\n",
    "elif (score >=60):\n",
    "    letter = 'D'\n",
    "else:\n",
    "    letter = 'F'\n",
    "print(letter)\n",
    "\n",
    "# ek if ek sath ek hi else lgta hai and infinte elif can be attached"
   ]
  },
  {
   "cell_type": "code",
   "execution_count": 11,
   "metadata": {},
   "outputs": [
    {
     "name": "stdout",
     "output_type": "stream",
     "text": [
      "42\n"
     ]
    }
   ],
   "source": [
    "# optional\n",
    "# one-liner alternative 1:\n",
    "\n",
    "if 42 in range(100): print(\"42\")\n"
   ]
  },
  {
   "cell_type": "code",
   "execution_count": 12,
   "metadata": {},
   "outputs": [
    {
     "name": "stdout",
     "output_type": "stream",
     "text": [
      "Alice\n"
     ]
    }
   ],
   "source": [
    "# one-liner alternative 2: this is important\n",
    "\n",
    "x = \"Alice\" if \"jon\" in \"My name is jonas\" else \"bob\"\n",
    "print(x)\n",
    "\n",
    "example 2\n",
    "\n",
    "x = 20\n",
    "if x>20:\n",
    "    print('yes')\n",
    "else:\n",
    "    print('no')\n",
    "    \n",
    "# print('yes') if x < 10 else print('no') # optional\n",
    "    \n",
    "    \n"
   ]
  },
  {
   "cell_type": "code",
   "execution_count": 13,
   "metadata": {},
   "outputs": [
    {
     "name": "stdout",
     "output_type": "stream",
     "text": [
      "42\n"
     ]
    }
   ],
   "source": [
    "# one-liner alternative 3:\n",
    "\n",
    "print(\"42\") if 42 in [22,33,42] else print(\"21\")"
   ]
  },
  {
   "cell_type": "code",
   "execution_count": null,
   "metadata": {},
   "outputs": [],
   "source": []
  }
 ],
 "metadata": {
  "interpreter": {
   "hash": "5d240ba0dc525c389faa33f5dcce5b4f32b6d6aa6d70d6d2dd929bd2b09ab69f"
  },
  "kernelspec": {
   "display_name": "Python 3.10.2 64-bit",
   "language": "python",
   "name": "python3"
  },
  "language_info": {
   "codemirror_mode": {
    "name": "ipython",
    "version": 3
   },
   "file_extension": ".py",
   "mimetype": "text/x-python",
   "name": "python",
   "nbconvert_exporter": "python",
   "pygments_lexer": "ipython3",
   "version": "3.10.2"
  },
  "orig_nbformat": 4
 },
 "nbformat": 4,
 "nbformat_minor": 2
}

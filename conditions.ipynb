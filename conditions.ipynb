{
 "cells": [
  {
   "cell_type": "code",
   "execution_count": 2,
   "metadata": {},
   "outputs": [
    {
     "name": "stdout",
     "output_type": "stream",
     "text": [
      "you see an apple seller\n",
      "purchase 2 kg of apples\n"
     ]
    }
   ],
   "source": [
    "print('you see an apple seller')\n",
    "q = input('do you like apples?')\n",
    "\n",
    "if q =='yes' :\n",
    "    print('purchase 2 kg of apples')\n",
    "if q =='no' :\n",
    "    print('you dont purchase apples')"
   ]
  },
  {
   "cell_type": "code",
   "execution_count": 4,
   "metadata": {},
   "outputs": [
    {
     "name": "stdout",
     "output_type": "stream",
     "text": [
      "x is greater than 5\n",
      "this is the info we needed\n",
      "with this power, comes great responsibility\n",
      "the end\n"
     ]
    }
   ],
   "source": [
    "x = 10\n",
    "if (x>5) :\n",
    "    print('x is greater than 5')\n",
    "    print('this is the info we needed')\n",
    "    print('with this power, comes great responsibility')\n",
    "print('the end')"
   ]
  },
  {
   "cell_type": "code",
   "execution_count": null,
   "metadata": {},
   "outputs": [],
   "source": []
  }
 ],
 "metadata": {
  "interpreter": {
   "hash": "5d240ba0dc525c389faa33f5dcce5b4f32b6d6aa6d70d6d2dd929bd2b09ab69f"
  },
  "kernelspec": {
   "display_name": "Python 3.10.2 64-bit",
   "language": "python",
   "name": "python3"
  },
  "language_info": {
   "codemirror_mode": {
    "name": "ipython",
    "version": 3
   },
   "file_extension": ".py",
   "mimetype": "text/x-python",
   "name": "python",
   "nbconvert_exporter": "python",
   "pygments_lexer": "ipython3",
   "version": "3.10.2"
  },
  "orig_nbformat": 4
 },
 "nbformat": 4,
 "nbformat_minor": 2
}

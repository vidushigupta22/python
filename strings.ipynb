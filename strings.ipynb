{
 "cells": [
  {
   "cell_type": "code",
   "execution_count": 2,
   "metadata": {},
   "outputs": [
    {
     "name": "stdout",
     "output_type": "stream",
     "text": [
      "hello\n",
      " hello\n",
      "hello\n",
      "wassup\n"
     ]
    }
   ],
   "source": [
    "#strings.ipynb\n",
    "\n",
    "my_string = 'hello'\n",
    "print(my_string)\n",
    "\n",
    "my_string = \"hello\"\n",
    "\n",
    "my_string =''' hello'''\n",
    "print(my_string)\n",
    "\n",
    "# triple quotes string is used for multi line \n",
    "\n",
    "my_string = '''hello\n",
    "wassup'''\n",
    "print(my_string)"
   ]
  },
  {
   "cell_type": "code",
   "execution_count": 3,
   "metadata": {},
   "outputs": [
    {
     "name": "stdout",
     "output_type": "stream",
     "text": [
      "str =  digipodium\n"
     ]
    }
   ],
   "source": [
    "# indexing\n",
    "str = 'digipodium'\n",
    "print('str = ', str)"
   ]
  },
  {
   "cell_type": "code",
   "execution_count": 8,
   "metadata": {},
   "outputs": [
    {
     "name": "stdout",
     "output_type": "stream",
     "text": [
      "str[0] =  d\n",
      "str[1] = i\n",
      "str[2] = g\n"
     ]
    }
   ],
   "source": [
    "# 1st character\n",
    "print('str[0] = ',str[0])\n",
    "\n",
    "# 2nd charcter\n",
    "print('str[1] =', str[1])\n",
    "\n",
    "# 3nd charcter\n",
    "print('str[2] =', str[2])\n",
    "\n"
   ]
  },
  {
   "cell_type": "code",
   "execution_count": 15,
   "metadata": {},
   "outputs": [
    {
     "name": "stdout",
     "output_type": "stream",
     "text": [
      "pod\n",
      "podium\n"
     ]
    }
   ],
   "source": [
    "# slicing\n",
    "\n",
    "s = 'digipodium'\n",
    "slice1 = s[4:7]\n",
    "print(slice1)\n",
    "\n",
    "slice2 = s[4:10]\n",
    "print(slice2)"
   ]
  },
  {
   "cell_type": "code",
   "execution_count": 1,
   "metadata": {},
   "outputs": [
    {
     "name": "stdout",
     "output_type": "stream",
     "text": [
      "develop\n",
      "loper\n",
      "lp\n"
     ]
    }
   ],
   "source": [
    "# In slicing skip start or end index\n",
    "\n",
    "x = 'developer'\n",
    "slic = x[ : -2]\n",
    "print(slic)\n",
    "\n",
    "slic2 = x[4:]\n",
    "print(slic2)\n",
    "\n",
    "print(x[4:7:2])"
   ]
  },
  {
   "cell_type": "code",
   "execution_count": 21,
   "metadata": {},
   "outputs": [
    {
     "name": "stdout",
     "output_type": "stream",
     "text": [
      "A\n",
      "ऽ\n",
      "き\n"
     ]
    }
   ],
   "source": [
    "x = chr(65)\n",
    "print(x)\n",
    "\n",
    "x = chr(2365)\n",
    "print(x)\n",
    "\n",
    "x = chr(12365)\n",
    "print(x)"
   ]
  },
  {
   "cell_type": "code",
   "execution_count": 10,
   "metadata": {},
   "outputs": [],
   "source": [
    "# chr(_) convert digits to the unicode of that digits\n",
    "# ord() convert single digit to the unicode\n",
    "\n",
    "y = ord('a')\n",
    "\n",
    "# string concenation --> +\n",
    "# string duplication ---> *"
   ]
  },
  {
   "cell_type": "code",
   "execution_count": 1,
   "metadata": {},
   "outputs": [
    {
     "data": {
      "text/plain": [
       "'yoyoyoyoyoyoyoyoyoyo'"
      ]
     },
     "execution_count": 1,
     "metadata": {},
     "output_type": "execute_result"
    }
   ],
   "source": [
    "'yo' * 10"
   ]
  },
  {
   "cell_type": "code",
   "execution_count": 11,
   "metadata": {},
   "outputs": [
    {
     "name": "stdout",
     "output_type": "stream",
     "text": [
      "____________________\n",
      "hello world\n",
      "____________________\n"
     ]
    }
   ],
   "source": [
    "print('_' * 20)\n",
    "print ('hello world')\n",
    "print('_' * 20)"
   ]
  },
  {
   "cell_type": "code",
   "execution_count": 4,
   "metadata": {},
   "outputs": [
    {
     "data": {
      "text/plain": [
       "['w', 'o', 'r', 'l', 'd', 's', 'i', 'n', 'g', 'e', 'r', 's']"
      ]
     },
     "execution_count": 4,
     "metadata": {},
     "output_type": "execute_result"
    }
   ],
   "source": [
    "# to separte characters of the string\n",
    "\n",
    "w = 'worldsingers'\n",
    "list(w)"
   ]
  },
  {
   "cell_type": "code",
   "execution_count": 7,
   "metadata": {},
   "outputs": [
    {
     "data": {
      "text/plain": [
       "'olsnes'"
      ]
     },
     "execution_count": 7,
     "metadata": {},
     "output_type": "execute_result"
    }
   ],
   "source": [
    "# to get the odd letters of the string\n",
    "# we will make  it start from 1 , make it run till end, and will specify to run at gaps of 2\n",
    "\n",
    "w[1: : 2] # odd indexes\n"
   ]
  },
  {
   "cell_type": "code",
   "execution_count": 8,
   "metadata": {},
   "outputs": [
    {
     "data": {
      "text/plain": [
       "'wrdigr'"
      ]
     },
     "execution_count": 8,
     "metadata": {},
     "output_type": "execute_result"
    }
   ],
   "source": [
    "w[ : :2] # even indexes"
   ]
  },
  {
   "cell_type": "code",
   "execution_count": 9,
   "metadata": {},
   "outputs": [
    {
     "data": {
      "text/plain": [
       "'sregnisdlrow'"
      ]
     },
     "execution_count": 9,
     "metadata": {},
     "output_type": "execute_result"
    }
   ],
   "source": [
    "w[ : :-1] # revrse string --> start from 0 till end with gap of -1"
   ]
  },
  {
   "cell_type": "code",
   "execution_count": 12,
   "metadata": {},
   "outputs": [
    {
     "name": "stdout",
     "output_type": "stream",
     "text": [
      "*\n",
      "**\n",
      "***\n",
      "****\n",
      "*****\n"
     ]
    }
   ],
   "source": [
    "#pattern printing\n",
    "for i in range(1,6):\n",
    "    print(i * '*')"
   ]
  },
  {
   "cell_type": "code",
   "execution_count": 15,
   "metadata": {},
   "outputs": [
    {
     "name": "stdout",
     "output_type": "stream",
     "text": [
      "             L \n",
      "           L L \n",
      "         L L L \n",
      "       L L L L \n",
      "     L L L L L \n"
     ]
    }
   ],
   "source": [
    "# right alignment\n",
    "\n",
    "for i in range(1,6):\n",
    "    print((i * 'L ').rjust(15))"
   ]
  },
  {
   "cell_type": "code",
   "execution_count": 16,
   "metadata": {},
   "outputs": [
    {
     "name": "stdout",
     "output_type": "stream",
     "text": [
      "L              \n",
      "L L            \n",
      "L L L          \n",
      "L L L L        \n",
      "L L L L L      \n"
     ]
    }
   ],
   "source": [
    "# left alignment\n",
    "for i in range(1,6):\n",
    "    print((i * 'L ').ljust(15))"
   ]
  },
  {
   "cell_type": "code",
   "execution_count": 17,
   "metadata": {},
   "outputs": [
    {
     "data": {
      "text/plain": [
       "'                                                                    worldsingers'"
      ]
     },
     "execution_count": 17,
     "metadata": {},
     "output_type": "execute_result"
    }
   ],
   "source": [
    "# r.just --> r justification or alignment\n",
    "\n",
    "w.rjust(80)\n",
    "# () defines the size of the character like above it took the space of 80 charaters and display the string on the right side\n",
    "\n"
   ]
  },
  {
   "cell_type": "code",
   "execution_count": 18,
   "metadata": {},
   "outputs": [
    {
     "name": "stdout",
     "output_type": "stream",
     "text": [
      "              T               \n",
      "            T T T             \n",
      "          T T T T T           \n",
      "        T T T T T T T         \n",
      "      T T T T T T T T T       \n",
      "    T T T T T T T T T T T     \n",
      "  T T T T T T T T T T T T T   \n"
     ]
    }
   ],
   "source": [
    "# center() --> aligns to the center but the size should be >=(30) to always align to center\n",
    "\n",
    "for i in range(1,15,2):\n",
    "    print((i * 'T ').center(30))"
   ]
  },
  {
   "cell_type": "code",
   "execution_count": 1,
   "metadata": {},
   "outputs": [
    {
     "name": "stdout",
     "output_type": "stream",
     "text": [
      "______________* ______________\n",
      "_____________0 0 _____________\n",
      "____________* * * ____________\n",
      "___________0 0 0 0 ___________\n",
      "__________* * * * * __________\n",
      "_________0 0 0 0 0 0 _________\n",
      "________* * * * * * * ________\n",
      "_______0 0 0 0 0 0 0 0 _______\n",
      "______* * * * * * * * * ______\n",
      "_____0 0 0 0 0 0 0 0 0 0 _____\n",
      "____* * * * * * * * * * * ____\n",
      "___0 0 0 0 0 0 0 0 0 0 0 0 ___\n",
      "__* * * * * * * * * * * * * __\n",
      "_0 0 0 0 0 0 0 0 0 0 0 0 0 0 _\n"
     ]
    }
   ],
   "source": [
    "for i in range(1,15):\n",
    "    if(i % 2 != 0 ):\n",
    "         print((i * '* ').center(30,'_'))\n",
    "    else:\n",
    "         print((i * '0 ').center(30,'_'))\n",
    "         \n",
    "         \n",
    "     "
   ]
  },
  {
   "cell_type": "code",
   "execution_count": 30,
   "metadata": {},
   "outputs": [
    {
     "name": "stdout",
     "output_type": "stream",
     "text": [
      "\u001b[1;31mSignature:\u001b[0m \u001b[0mw\u001b[0m\u001b[1;33m.\u001b[0m\u001b[0mcenter\u001b[0m\u001b[1;33m(\u001b[0m\u001b[0mwidth\u001b[0m\u001b[1;33m,\u001b[0m \u001b[0mfillchar\u001b[0m\u001b[1;33m=\u001b[0m\u001b[1;34m' '\u001b[0m\u001b[1;33m,\u001b[0m \u001b[1;33m/\u001b[0m\u001b[1;33m)\u001b[0m\u001b[1;33m\u001b[0m\u001b[1;33m\u001b[0m\u001b[0m\n",
      "\u001b[1;31mDocstring:\u001b[0m\n",
      "Return a centered string of length width.\n",
      "\n",
      "Padding is done using the specified fill character (default is a space).\n",
      "\u001b[1;31mType:\u001b[0m      builtin_function_or_method\n"
     ]
    }
   ],
   "source": [
    "w.center?\n"
   ]
  },
  {
   "cell_type": "code",
   "execution_count": 28,
   "metadata": {},
   "outputs": [],
   "source": [
    "STORY ='''Two roads diverged in a yellow wood,\n",
    "\n",
    "And sorry I could not travel both\n",
    "\n",
    "And be one traveller, long I stood\n",
    "\n",
    "And looked down one as far as I could\n",
    "\n",
    "To where it bent in the undergrowth;\n",
    "\n",
    "Then took the other, just as fair,\n",
    "\n",
    "And having perhaps the better claim,\n",
    "\n",
    "Because it was grassy and wanted wear;\n",
    "\n",
    "Though as for that the passing there\n",
    "\n",
    "Had worn them really about the same.'''\n",
    "\n",
    "#len(STORY)"
   ]
  },
  {
   "cell_type": "code",
   "execution_count": 5,
   "metadata": {},
   "outputs": [
    {
     "name": "stdout",
     "output_type": "stream",
     "text": [
      "['T']['w']['o'][' ']['r']['o']['a']['d']['s'][' ']['d']['i']['v']['e']['r']['g']['e']['d'][' ']['i']['n'][' ']['a'][' ']['y']['e']['l']['l']['o']['w'][' ']['w']['o']['o']['d'][',']['\\n']['\\n']['A']['n']['d'][' ']['s']['o']['r']['r']['y'][' ']['I'][' ']['c']['o']['u']['l']['d'][' ']['n']['o']['t'][' ']['t']['r']['a']['v']['e']['l'][' ']['b']['o']['t']['h']['\\n']['\\n']['A']['n']['d'][' ']['b']['e'][' ']['o']['n']['e'][' ']['t']['r']['a']['v']['e']['l']['l']['e']['r'][','][' ']['l']['o']['n']['g'][' ']['I'][' ']['s']['t']['o']['o']['d']['\\n']['\\n']['A']['n']['d'][' ']['l']['o']['o']['k']['e']['d'][' ']['d']['o']['w']['n'][' ']['o']['n']['e'][' ']['a']['s'][' ']['f']['a']['r'][' ']['a']['s'][' ']['I'][' ']['c']['o']['u']['l']['d']['\\n']['\\n']['T']['o'][' ']['w']['h']['e']['r']['e'][' ']['i']['t'][' ']['b']['e']['n']['t'][' ']['i']['n'][' ']['t']['h']['e'][' ']['u']['n']['d']['e']['r']['g']['r']['o']['w']['t']['h'][';']['\\n']['\\n']['T']['h']['e']['n'][' ']['t']['o']['o']['k'][' ']['t']['h']['e'][' ']['o']['t']['h']['e']['r'][','][' ']['j']['u']['s']['t'][' ']['a']['s'][' ']['f']['a']['i']['r'][',']['\\n']['\\n']['A']['n']['d'][' ']['h']['a']['v']['i']['n']['g'][' ']['p']['e']['r']['h']['a']['p']['s'][' ']['t']['h']['e'][' ']['b']['e']['t']['t']['e']['r'][' ']['c']['l']['a']['i']['m'][',']['\\n']['\\n']['B']['e']['c']['a']['u']['s']['e'][' ']['i']['t'][' ']['w']['a']['s'][' ']['g']['r']['a']['s']['s']['y'][' ']['a']['n']['d'][' ']['w']['a']['n']['t']['e']['d'][' ']['w']['e']['a']['r'][';']['\\n']['\\n']['T']['h']['o']['u']['g']['h'][' ']['a']['s'][' ']['f']['o']['r'][' ']['t']['h']['a']['t'][' ']['t']['h']['e'][' ']['p']['a']['s']['s']['i']['n']['g'][' ']['t']['h']['e']['r']['e']['\\n']['\\n']['H']['a']['d'][' ']['w']['o']['r']['n'][' ']['t']['h']['e']['m'][' ']['r']['e']['a']['l']['l']['y'][' ']['a']['b']['o']['u']['t'][' ']['t']['h']['e'][' ']['s']['a']['m']['e']['.']"
     ]
    }
   ],
   "source": [
    "for i in STORY:\n",
    "    w = list(i)\n",
    "    print(w,end ='')"
   ]
  },
  {
   "cell_type": "code",
   "execution_count": 5,
   "metadata": {},
   "outputs": [
    {
     "name": "stdout",
     "output_type": "stream",
     "text": [
      "['Two', 'roads', 'diverged', 'in', 'a', 'yellow', 'wood,', 'And', 'sorry', 'I', 'could', 'not', 'travel', 'both', 'And', 'be', 'one', 'traveller,', 'long', 'I', 'stood', 'And', 'looked', 'down', 'one', 'as', 'far', 'as', 'I', 'could', 'To', 'where', 'it', 'bent', 'in', 'the', 'undergrowth;', 'Then', 'took', 'the', 'other,', 'just', 'as', 'fair,', 'And', 'having', 'perhaps', 'the', 'better', 'claim,', 'Because', 'it', 'was', 'grassy', 'and', 'wanted', 'wear;', 'Though', 'as', 'for', 'that', 'the', 'passing', 'there', 'Had', 'worn', 'them', 'really', 'about', 'the', 'same.']\n"
     ]
    }
   ],
   "source": [
    "words = STORY.split()\n",
    "print(words)"
   ]
  },
  {
   "cell_type": "code",
   "execution_count": 46,
   "metadata": {},
   "outputs": [
    {
     "data": {
      "text/plain": [
       "['Two roads diverged in a yellow wood,\\n\\nAnd sorry I could ',\n",
       " ' travel both\\n\\nAnd be one traveller, long I stood\\n\\nAnd looked down one as far as I could\\n\\nTo where it bent in the undergrowth;\\n\\nThen took the other, just as fair,\\n\\nAnd having perhaps the better claim,\\n\\nBecause it was grassy and wanted wear;\\n\\nThough as for that the passing there\\n\\nHad worn them really about the same.']"
      ]
     },
     "execution_count": 46,
     "metadata": {},
     "output_type": "execute_result"
    }
   ],
   "source": [
    "STORY.split('not') # it will split where not is written"
   ]
  },
  {
   "cell_type": "code",
   "execution_count": 47,
   "metadata": {},
   "outputs": [
    {
     "data": {
      "text/plain": [
       "['Two roads diverged in a yellow wood,\\n\\nAnd sorry I could ',\n",
       " ' travel both\\n\\nAnd be one traveller, long I stood\\n\\nAnd looked down one as far as I could\\n\\nTo where it bent in the undergrowth;\\n\\nThen took the other, just as fair,\\n\\nAnd having perhaps the better claim,\\n\\nBecause it was grassy and wanted wear;\\n\\nThough as for that the passing there\\n\\nHad worn them really about the same.']"
      ]
     },
     "execution_count": 47,
     "metadata": {},
     "output_type": "execute_result"
    }
   ],
   "source": [
    "STORY.split('not',3) #(  , ) after comma whtever no u will give will define the no. of slpit , like below there are only 3 splits"
   ]
  },
  {
   "cell_type": "code",
   "execution_count": 9,
   "metadata": {},
   "outputs": [
    {
     "data": {
      "text/plain": [
       "'choc glu biscuit money'"
      ]
     },
     "execution_count": 9,
     "metadata": {},
     "output_type": "execute_result"
    }
   ],
   "source": [
    "# join is used to join the items in the list\n",
    "\n",
    "word = ['choc','glu','biscuit','money']\n",
    "\n",
    "' '.join(word)"
   ]
  },
  {
   "cell_type": "code",
   "execution_count": 11,
   "metadata": {},
   "outputs": [
    {
     "name": "stdout",
     "output_type": "stream",
     "text": [
      "choc glu biscuit money "
     ]
    }
   ],
   "source": [
    "for i in word:\n",
    "    print(i,end = ' ')"
   ]
  },
  {
   "cell_type": "code",
   "execution_count": 50,
   "metadata": {},
   "outputs": [
    {
     "data": {
      "text/plain": [
       "'choc // glu // biscuit // money'"
      ]
     },
     "execution_count": 50,
     "metadata": {},
     "output_type": "execute_result"
    }
   ],
   "source": [
    "' // '.join(word)"
   ]
  },
  {
   "cell_type": "code",
   "execution_count": 57,
   "metadata": {},
   "outputs": [
    {
     "data": {
      "text/plain": [
       "'Two roads diverged in a yellow wood,\\n\\n# sorry I could not travel both\\n\\n# be one traveller, long I stood\\n\\n# looked down one as far as I could\\n\\nTo where it bent in the undergrowth;\\n\\nThen took the other, just as fair,\\n\\n# having perhaps the better claim,\\n\\nBecause it was grassy and wanted wear;\\n\\nThough as for that the passing there\\n\\nHad worn them really about the same.'"
      ]
     },
     "execution_count": 57,
     "metadata": {},
     "output_type": "execute_result"
    }
   ],
   "source": [
    "STORY.replace('And','#',5) \n",
    "\n",
    "# the first two commas are for replacing but the number given in the last defines the count \n",
    "# i.e you want to replace the 'And' for first five times only"
   ]
  },
  {
   "cell_type": "code",
   "execution_count": 17,
   "metadata": {},
   "outputs": [
    {
     "data": {
      "text/plain": [
       "'TWO ROADS DIVERGED IN A YELLOW WOOD,\\n\\nAND SORRY I COULD NOT TRAVEL BOTH\\n\\nAND BE ONE TRAVELLER, LONG I STOOD\\n\\nAND LOOKED DOWN ONE AS FAR AS I COULD\\n\\nTO WHERE IT BENT IN THE UNDERGROWTH;\\n\\nTHEN TOOK THE OTHER, JUST AS FAIR,\\n\\nAND HAVING PERHAPS THE BETTER CLAIM,\\n\\nBECAUSE IT WAS GRASSY AND WANTED WEAR;\\n\\nTHOUGH AS FOR THAT THE PASSING THERE\\n\\nHAD WORN THEM REALLY ABOUT THE SAME.'"
      ]
     },
     "execution_count": 17,
     "metadata": {},
     "output_type": "execute_result"
    }
   ],
   "source": [
    "STORY.upper()"
   ]
  },
  {
   "cell_type": "code",
   "execution_count": 18,
   "metadata": {},
   "outputs": [
    {
     "data": {
      "text/plain": [
       "'TWO ROADS DIVERGED IN A Y'"
      ]
     },
     "execution_count": 18,
     "metadata": {},
     "output_type": "execute_result"
    }
   ],
   "source": [
    "STORY.upper()[ : 25] # first 25 characters are in upper case"
   ]
  },
  {
   "cell_type": "code",
   "execution_count": 19,
   "metadata": {},
   "outputs": [
    {
     "data": {
      "text/plain": [
       "'tWO ROADS DIVERGED IN A YELLOW WOOD,\\n\\naND SORRY i COULD NOT TRAVEL BOTH\\n\\naND BE ONE TRAVELLER, LONG i STOOD\\n\\naND LOOKED DOWN ONE AS FAR AS i COULD\\n\\ntO WHERE IT BENT IN THE UNDERGROWTH;\\n\\ntHEN TOOK THE OTHER, JUST AS FAIR,\\n\\naND HAVING PERHAPS THE BETTER CLAIM,\\n\\nbECAUSE IT WAS GRASSY AND WANTED WEAR;\\n\\ntHOUGH AS FOR THAT THE PASSING THERE\\n\\nhAD WORN THEM REALLY ABOUT THE SAME.'"
      ]
     },
     "execution_count": 19,
     "metadata": {},
     "output_type": "execute_result"
    }
   ],
   "source": [
    "STORY.swapcase()  # it will convert smal letters to capital and vice versa"
   ]
  },
  {
   "cell_type": "code",
   "execution_count": 21,
   "metadata": {},
   "outputs": [
    {
     "data": {
      "text/plain": [
       "True"
      ]
     },
     "execution_count": 21,
     "metadata": {},
     "output_type": "execute_result"
    }
   ],
   "source": [
    "# validation function --> it checks the input of the user --> usually starts from 'is'\n",
    "\n",
    "msg = input('enter anything')\n",
    "\n",
    "msg.isalpha() # it checks whether the input is alphabets or not\n",
    "\n"
   ]
  },
  {
   "cell_type": "code",
   "execution_count": 10,
   "metadata": {},
   "outputs": [
    {
     "name": "stdout",
     "output_type": "stream",
     "text": [
      "name do not and can never contain number but user can make that happen 😉 \n"
     ]
    }
   ],
   "source": [
    "name = input('enter your name')\n",
    "if(name.isalpha()):\n",
    "    print('name contains alphabets')\n",
    "elif(name.isnumeric()):\n",
    "    print('name do not and can never contain number but user can make that happen 😉 ')"
   ]
  },
  {
   "cell_type": "code",
   "execution_count": 23,
   "metadata": {},
   "outputs": [
    {
     "name": "stdout",
     "output_type": "stream",
     "text": [
      "invalid\n"
     ]
    }
   ],
   "source": [
    "msg = input('enter a number')\n",
    "\n",
    "if (msg.isnumeric()):  # we can use function as a condition \n",
    "    print('valid')\n",
    "else:\n",
    "    print('invalid')"
   ]
  },
  {
   "cell_type": "code",
   "execution_count": null,
   "metadata": {},
   "outputs": [],
   "source": [
    "msg.isalnum # it checks input contains number or alphabets but not special character"
   ]
  },
  {
   "cell_type": "code",
   "execution_count": 31,
   "metadata": {},
   "outputs": [
    {
     "data": {
      "text/plain": [
       "4"
      ]
     },
     "execution_count": 31,
     "metadata": {},
     "output_type": "execute_result"
    }
   ],
   "source": [
    " STORY.count('A')"
   ]
  },
  {
   "cell_type": "code",
   "execution_count": 27,
   "metadata": {},
   "outputs": [
    {
     "name": "stdout",
     "output_type": "stream",
     "text": [
      "a 29\n",
      "b 6\n",
      "c 4\n",
      "d 17\n",
      "e 33\n",
      "f 3\n",
      "g 7\n",
      "h 18\n",
      "i 12\n",
      "j 1\n",
      "k 2\n",
      "l 12\n",
      "m 3\n",
      "n 19\n",
      "o 27\n",
      "p 3\n",
      "q 0\n",
      "r 21\n",
      "s 16\n",
      "t 29\n",
      "u 7\n",
      "v 4\n",
      "w 10\n",
      "x 0\n",
      "y 4\n",
      "z 0\n"
     ]
    }
   ],
   "source": [
    "for char in 'abcdefghijklmnopqrstuvwxyz':\n",
    "    print(char,STORY.lower().count(char))  # first make story in lower case as to include all the characters \n",
    "                                           # of upper and lower case \n",
    "                                           # then make it print"
   ]
  },
  {
   "cell_type": "code",
   "execution_count": 28,
   "metadata": {},
   "outputs": [
    {
     "name": "stdout",
     "output_type": "stream",
     "text": [
      " vidushi   10\n",
      "vidushi 7\n"
     ]
    }
   ],
   "source": [
    "name = input('enter a name')\n",
    "print(name,len(name))\n",
    "\n",
    "# cleaning name\n",
    "\n",
    "name = name.strip() # it removes spaces between , right and left characters\n",
    "print(name,len(name))\n"
   ]
  },
  {
   "cell_type": "code",
   "execution_count": 31,
   "metadata": {},
   "outputs": [
    {
     "name": "stdout",
     "output_type": "stream",
     "text": [
      "welcome gentleman mr. smith\n",
      "welcome gentleman mr. jones\n",
      "welcome gentleman mrs. jones\n",
      "welcome milady mrs. jones\n",
      "welcome gentleman mrs. obroi\n",
      "welcome milady mrs. obroi\n",
      "welcome gentleman mr. brown\n"
     ]
    }
   ],
   "source": [
    "guestlist = [\"mr. smith\",\"mr. jones\", \"mrs. jones\", \"mrs. obroi\", \"mr. brown\"]\n",
    "\n",
    "for name in guestlist:\n",
    "    if(name.startswith('mr')):\n",
    "        print(f'welcome gentleman {name}')\n",
    "    if(name.startswith('mrs')):\n",
    "        print(f'welcome milady {name}')"
   ]
  },
  {
   "cell_type": "code",
   "execution_count": 36,
   "metadata": {},
   "outputs": [
    {
     "name": "stdout",
     "output_type": "stream",
     "text": [
      " Song.mp3 its a audio \n",
      " Song.mp4 its a video \n",
      " doc.txt its a document\n",
      " doc2.txt its a document\n",
      " doc3.txt its a document\n",
      " Video.mp4 its a video \n"
     ]
    }
   ],
   "source": [
    "files = ['Song.mp3','Song.mp4','doc.txt','doc2.txt','doc3.txt','Video.mp4']\n",
    "\n",
    "for file in files:\n",
    "    if(file.endswith('.mp3')):\n",
    "        print(f' {file} its a audio ')\n",
    "    elif(file.endswith('.mp4')):\n",
    "        print(f' {file} its a video ')\n",
    "    elif(file.endswith('.txt')):\n",
    "        print(f' {file} its a document')\n",
    "    \n",
    "        \n",
    "        \n",
    "        "
   ]
  },
  {
   "cell_type": "code",
   "execution_count": 15,
   "metadata": {},
   "outputs": [
    {
     "name": "stdout",
     "output_type": "stream",
     "text": [
      "h my nm s vd\n"
     ]
    }
   ],
   "source": [
    "s = input('tell us a little bit of yourself')\n",
    "v = 'aeiouAEIOU'\n",
    "for i in v:\n",
    "   s =  s.replace(i,'')\n",
    "print(s)"
   ]
  },
  {
   "cell_type": "code",
   "execution_count": 43,
   "metadata": {},
   "outputs": [
    {
     "name": "stdout",
     "output_type": "stream",
     "text": [
      " m  prgrmmr\n"
     ]
    }
   ],
   "source": [
    "# remove all the vowels from a string entered by user\n",
    "\n",
    "vowels = 'aeiouAEIOU'\n",
    "\n",
    "message = 'I am a programmer'\n",
    "\n",
    "for vowel in vowels:\n",
    "    message = message.replace(vowel,\"\")\n",
    "print(message)\n"
   ]
  },
  {
   "cell_type": "code",
   "execution_count": 19,
   "metadata": {},
   "outputs": [
    {
     "name": "stdout",
     "output_type": "stream",
     "text": [
      "a 3\n",
      "e 1\n",
      "i 4\n",
      "o 1\n",
      "u 2\n",
      "A 0\n",
      "E 0\n",
      "I 1\n",
      "O 0\n",
      "U 0\n"
     ]
    }
   ],
   "source": [
    "# count all the vowels from a string entered by the user\n",
    "\n",
    "vowels = 'aeiouAEIOU'\n",
    "\n",
    "msg = 'Hi I am Vidushi,What is your name?'\n",
    "\n",
    "for vowel in vowels:\n",
    "   print(vowel,msg.count(vowel))  \n",
    "    \n",
    "    \n"
   ]
  },
  {
   "cell_type": "markdown",
   "metadata": {},
   "source": []
  },
  {
   "cell_type": "markdown",
   "metadata": {},
   "source": []
  },
  {
   "cell_type": "code",
   "execution_count": null,
   "metadata": {},
   "outputs": [],
   "source": []
  }
 ],
 "metadata": {
  "interpreter": {
   "hash": "fb4569285eef3a3450cb62085a5b1e0da4bce0af555edc33dcf29baf3acc1368"
  },
  "kernelspec": {
   "display_name": "Python 3.10.2 64-bit",
   "language": "python",
   "name": "python3"
  },
  "language_info": {
   "codemirror_mode": {
    "name": "ipython",
    "version": 3
   },
   "file_extension": ".py",
   "mimetype": "text/x-python",
   "name": "python",
   "nbconvert_exporter": "python",
   "pygments_lexer": "ipython3",
   "version": "3.10.2"
  },
  "orig_nbformat": 4
 },
 "nbformat": 4,
 "nbformat_minor": 2
}

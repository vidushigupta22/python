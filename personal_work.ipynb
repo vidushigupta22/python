{
 "cells": [
  {
   "cell_type": "code",
   "execution_count": null,
   "metadata": {},
   "outputs": [],
   "source": [
    "# ctrl+ forward slash --> used for commenting and uncommenting\n",
    "\n",
    "# windows + . --> used for applying similys\n",
    "\n",
    "# colon at the end of the statement represtents , start of the code\n",
    "\n",
    "# diference between = and == is that = is used to assign the values and == is to check the the values\n",
    "\n"
   ]
  },
  {
   "cell_type": "code",
   "execution_count": 6,
   "metadata": {},
   "outputs": [
    {
     "name": "stdout",
     "output_type": "stream",
     "text": [
      "The average of num1 and num2 is 30.0\n"
     ]
    }
   ],
   "source": [
    "# write a python program to find the average of two numbers entered by the user\n",
    "\n",
    "num1 = int(input('enter a no.'))\n",
    "num2 = int(input('enter a another no.'))\n",
    "\n",
    "print('The average of num1 and num2 is',(num1+num2)/2)"
   ]
  },
  {
   "cell_type": "code",
   "execution_count": 7,
   "metadata": {},
   "outputs": [
    {
     "name": "stdout",
     "output_type": "stream",
     "text": [
      "The square of a is 225\n"
     ]
    }
   ],
   "source": [
    "# WAP to calculate the square of the number entered by the user \n",
    "\n",
    "a = int(input('enter a number'))\n",
    "print('The square of a is', a*a)"
   ]
  },
  {
   "cell_type": "code",
   "execution_count": 1,
   "metadata": {},
   "outputs": [
    {
     "name": "stdout",
     "output_type": "stream",
     "text": [
      "1275\n"
     ]
    }
   ],
   "source": [
    "# WAP to add numbers starting from 1 to 50 using while loop\n",
    "\n",
    "num = 1\n",
    "i = 0\n",
    "while(num<=50):\n",
    "    i = i+num\n",
    "    num = num+1\n",
    "print(i)\n",
    "    \n"
   ]
  },
  {
   "cell_type": "code",
   "execution_count": 6,
   "metadata": {},
   "outputs": [
    {
     "name": "stdout",
     "output_type": "stream",
     "text": [
      "1 is an odd number\n",
      "2 is an even number\n",
      "3 is an odd number\n",
      "4 is an even number\n",
      "5 is an odd number\n",
      "6 is an even number\n",
      "7 is an odd number\n",
      "8 is an even number\n",
      "9 is an odd number\n",
      "stop\n"
     ]
    }
   ],
   "source": [
    "#WAP using break statement \n",
    "\n",
    "i = 1\n",
    "\n",
    "while(i <= 15):\n",
    "    if(i % 10 == 0):\n",
    "        break\n",
    "    elif(i % 2==0):\n",
    "        print(f'{i} is an even number')\n",
    "    else:\n",
    "        print(f'{i} is an odd number')\n",
    "    i = i+1\n",
    "print(\"stop\")\n",
    "    "
   ]
  },
  {
   "cell_type": "code",
   "execution_count": 9,
   "metadata": {},
   "outputs": [
    {
     "name": "stdout",
     "output_type": "stream",
     "text": [
      "my name is marry\n",
      "my name is jesus\n",
      "my name is mark\n",
      "my name is lola\n",
      "my name can't be bob guys\n",
      "the end\n"
     ]
    }
   ],
   "source": [
    "# WAP to take user input and use  break also\n",
    "\n",
    "start = 1\n",
    "\n",
    "while(start <= 100):\n",
    "    name = input('enter a name')\n",
    "    if (name == 'bob'):\n",
    "        print(\"my name can't be bob guys\")\n",
    "        break\n",
    "    else:\n",
    "        print('my name is', name)\n",
    "print('the end')\n",
    "    \n",
    "\n"
   ]
  },
  {
   "cell_type": "code",
   "execution_count": 3,
   "metadata": {},
   "outputs": [
    {
     "name": "stdout",
     "output_type": "stream",
     "text": [
      "dear vidushi you are selected on this date 22 november congratulation!!!\n"
     ]
    }
   ],
   "source": [
    "# WAP to use the tempelate\n",
    "\n",
    "name = input('enter a name')\n",
    "date = input('enter a date')\n",
    "\n",
    "print(f'dear {name} you are selected on this date {date} congratulation!!!')"
   ]
  },
  {
   "cell_type": "code",
   "execution_count": 12,
   "metadata": {},
   "outputs": [
    {
     "name": "stdout",
     "output_type": "stream",
     "text": [
      " Dear VIDUSHI\n",
      "You are selected\n",
      "\n",
      "On this date 22 NOVEMBER\n",
      "congratulations !!!!\n"
     ]
    }
   ],
   "source": [
    "# OR\n",
    "\n",
    "LETTER = ''' Dear [name]\n",
    "You are selected\n",
    "\n",
    "On this date [date]\n",
    "congratulations !!!!'''\n",
    "\n",
    "name = input('enter a name')\n",
    "date = input('enter a date')\n",
    "\n",
    "LETTER = LETTER.replace('[name]',name)\n",
    "LETTER = LETTER.replace('[date]',date)\n",
    "\n",
    "print(LETTER)\n"
   ]
  },
  {
   "cell_type": "code",
   "execution_count": 21,
   "metadata": {},
   "outputs": [
    {
     "name": "stdout",
     "output_type": "stream",
     "text": [
      "hey this string contaions double   spaces  and length = 41\n",
      "hey this string contaions double  spaces and length = 40\n"
     ]
    }
   ],
   "source": [
    "# WAP to detect double spaces and replace with single spaces\n",
    "\n",
    "st = 'hey this string contaions double   spaces'\n",
    "print(st,' and length =',len(st))\n",
    "\n",
    "ds = st.replace('  ',' ')\n",
    "print(ds,'and length =',len(ds))"
   ]
  },
  {
   "cell_type": "code",
   "execution_count": 1,
   "metadata": {},
   "outputs": [
    {
     "name": "stdout",
     "output_type": "stream",
     "text": [
      "['banana', 'apple', 'orange', 'grape', 'gwaya', 'pinnaple', 'watermelon']\n"
     ]
    }
   ],
   "source": [
    "# WAP to store seven fruits in a list entered by the user\n",
    "\n",
    "fruits = input('enter 7 friuts name')\n",
    "\n",
    "format_fruits = fruits.split()\n",
    "\n",
    "print(format_fruits)\n"
   ]
  },
  {
   "cell_type": "code",
   "execution_count": 18,
   "metadata": {},
   "outputs": [
    {
     "name": "stdout",
     "output_type": "stream",
     "text": [
      "['12', '23', '45', '65', '76', '98']\n"
     ]
    }
   ],
   "source": [
    "# wap to accept marks of 6 students and display them in a sorted manner \n",
    "\n",
    "# marks = [98,77,82,60,79,87]\n",
    "\n",
    "marks = input('enter 6 students marks')\n",
    "\n",
    "m = marks.split()\n",
    "\n",
    "m.sort()\n",
    "print(m)\n"
   ]
  },
  {
   "cell_type": "code",
   "execution_count": 16,
   "metadata": {},
   "outputs": [
    {
     "name": "stdout",
     "output_type": "stream",
     "text": [
      "140\n"
     ]
    }
   ],
   "source": [
    "# wap to sum the list of 4 numbers \n",
    "\n",
    "numbers = [20,30,40,50]\n",
    "i = 0\n",
    "for number in numbers:\n",
    "    i = i + number\n",
    "print(i)\n",
    "    "
   ]
  },
  {
   "cell_type": "code",
   "execution_count": 21,
   "metadata": {},
   "outputs": [
    {
     "name": "stdout",
     "output_type": "stream",
     "text": [
      "[140]\n",
      "140\n"
     ]
    }
   ],
   "source": [
    "# OR\n",
    "\n",
    "\n",
    "numbers = [20,30,40,50]\n",
    "N = [numbers[0] + numbers[1] + numbers[2]+ numbers[3]]\n",
    "\n",
    "print(N) \n",
    "\n",
    "print(sum(numbers))"
   ]
  },
  {
   "cell_type": "code",
   "execution_count": 12,
   "metadata": {},
   "outputs": [
    {
     "data": {
      "text/plain": [
       "3"
      ]
     },
     "execution_count": 12,
     "metadata": {},
     "output_type": "execute_result"
    }
   ],
   "source": [
    "# wap to count the number of 0's in the following tuple \n",
    "\n",
    "tup = (1,2,3,4,0,7,8,0,0,2)\n",
    "tup.count(0)"
   ]
  },
  {
   "cell_type": "code",
   "execution_count": 1,
   "metadata": {},
   "outputs": [
    {
     "data": {
      "text/plain": [
       "3"
      ]
     },
     "execution_count": 1,
     "metadata": {},
     "output_type": "execute_result"
    }
   ],
   "source": [
    "y = 'stuff;thing;junk'\n",
    "\n",
    "z = y.split(';')\n",
    "len(z)"
   ]
  },
  {
   "cell_type": "code",
   "execution_count": 3,
   "metadata": {},
   "outputs": [
    {
     "name": "stdout",
     "output_type": "stream",
     "text": [
      "{1, 2, 3, 4, 5, 6}\n"
     ]
    }
   ],
   "source": [
    "x ={1,2,3,4,5}\n",
    "x.add(5)\n",
    "x.add(6)\n",
    "print(x)"
   ]
  },
  {
   "cell_type": "code",
   "execution_count": 4,
   "metadata": {},
   "outputs": [
    {
     "name": "stdout",
     "output_type": "stream",
     "text": [
      "3\n"
     ]
    }
   ],
   "source": [
    "m = [1,2,3,4]\n",
    "print(m[-2])"
   ]
  },
  {
   "cell_type": "code",
   "execution_count": 5,
   "metadata": {},
   "outputs": [
    {
     "ename": "ModuleNotFoundError",
     "evalue": "No module named 'numpy'",
     "output_type": "error",
     "traceback": [
      "\u001b[1;31m---------------------------------------------------------------------------\u001b[0m",
      "\u001b[1;31mModuleNotFoundError\u001b[0m                       Traceback (most recent call last)",
      "\u001b[1;32mc:\\Users\\user\\Documents\\python\\personal_work.ipynb Cell 18'\u001b[0m in \u001b[0;36m<cell line: 1>\u001b[1;34m()\u001b[0m\n\u001b[1;32m----> <a href='vscode-notebook-cell:/c%3A/Users/user/Documents/python/personal_work.ipynb#ch0000017?line=0'>1</a>\u001b[0m \u001b[39mimport\u001b[39;00m \u001b[39mnumpy\u001b[39;00m \u001b[39mas\u001b[39;00m \u001b[39mnp\u001b[39;00m\n",
      "\u001b[1;31mModuleNotFoundError\u001b[0m: No module named 'numpy'"
     ]
    }
   ],
   "source": [
    "import numpy as np"
   ]
  },
  {
   "cell_type": "code",
   "execution_count": 6,
   "metadata": {},
   "outputs": [
    {
     "name": "stdout",
     "output_type": "stream",
     "text": [
      "[2, 'orange', 3.5]\n"
     ]
    }
   ],
   "source": [
    "mlist = [2,'apple',3.5]\n",
    "\n",
    "mlist[1] = 'orange'\n",
    "print(mlist)"
   ]
  },
  {
   "cell_type": "code",
   "execution_count": 7,
   "metadata": {},
   "outputs": [
    {
     "data": {
      "text/plain": [
       "True"
      ]
     },
     "execution_count": 7,
     "metadata": {},
     "output_type": "execute_result"
    }
   ],
   "source": [
    "5 != 6"
   ]
  },
  {
   "cell_type": "code",
   "execution_count": null,
   "metadata": {},
   "outputs": [],
   "source": []
  }
 ],
 "metadata": {
  "interpreter": {
   "hash": "fb4569285eef3a3450cb62085a5b1e0da4bce0af555edc33dcf29baf3acc1368"
  },
  "kernelspec": {
   "display_name": "Python 3.10.2 64-bit",
   "language": "python",
   "name": "python3"
  },
  "language_info": {
   "codemirror_mode": {
    "name": "ipython",
    "version": 3
   },
   "file_extension": ".py",
   "mimetype": "text/x-python",
   "name": "python",
   "nbconvert_exporter": "python",
   "pygments_lexer": "ipython3",
   "version": "3.10.2"
  },
  "orig_nbformat": 4
 },
 "nbformat": 4,
 "nbformat_minor": 2
}

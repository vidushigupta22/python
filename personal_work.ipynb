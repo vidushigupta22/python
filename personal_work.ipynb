{
 "cells": [
  {
   "cell_type": "code",
   "execution_count": null,
   "metadata": {},
   "outputs": [],
   "source": [
    "# ctrl+ forward slash --> used for commenting and uncommenting\n",
    "\n",
    "# windows + . --> used for applying similys\n",
    "\n",
    "# colon at the end of the statement represtents , start of the code\n",
    "\n",
    "# diference between = and == is that = is used to assign the values and == is to check the the values\n",
    "\n"
   ]
  },
  {
   "cell_type": "code",
   "execution_count": 6,
   "metadata": {},
   "outputs": [
    {
     "name": "stdout",
     "output_type": "stream",
     "text": [
      "The average of num1 and num2 is 30.0\n"
     ]
    }
   ],
   "source": [
    "# write a python program to find the average of two numbers entered by the user\n",
    "\n",
    "num1 = int(input('enter a no.'))\n",
    "num2 = int(input('enter a another no.'))\n",
    "\n",
    "print('The average of num1 and num2 is',(num1+num2)/2)"
   ]
  },
  {
   "cell_type": "code",
   "execution_count": 7,
   "metadata": {},
   "outputs": [
    {
     "name": "stdout",
     "output_type": "stream",
     "text": [
      "The square of a is 225\n"
     ]
    }
   ],
   "source": [
    "# WAP to calculate the square of the number entered by the user \n",
    "\n",
    "a = int(input('enter a number'))\n",
    "print('The square of a is', a*a)"
   ]
  },
  {
   "cell_type": "code",
   "execution_count": 1,
   "metadata": {},
   "outputs": [
    {
     "name": "stdout",
     "output_type": "stream",
     "text": [
      "1275\n"
     ]
    }
   ],
   "source": [
    "# WAP to add numbers starting from 1 to 50 using while loop\n",
    "\n",
    "num = 1\n",
    "i = 0\n",
    "while(num<=50):\n",
    "    i = i+num\n",
    "    num = num+1\n",
    "print(i)\n",
    "    \n"
   ]
  },
  {
   "cell_type": "code",
   "execution_count": 6,
   "metadata": {},
   "outputs": [
    {
     "name": "stdout",
     "output_type": "stream",
     "text": [
      "1 is an odd number\n",
      "2 is an even number\n",
      "3 is an odd number\n",
      "4 is an even number\n",
      "5 is an odd number\n",
      "6 is an even number\n",
      "7 is an odd number\n",
      "8 is an even number\n",
      "9 is an odd number\n",
      "stop\n"
     ]
    }
   ],
   "source": [
    "#WAP using break statement \n",
    "\n",
    "i = 1\n",
    "\n",
    "while(i <= 15):\n",
    "    if(i % 10 == 0):\n",
    "        break\n",
    "    elif(i % 2==0):\n",
    "        print(f'{i} is an even number')\n",
    "    else:\n",
    "        print(f'{i} is an odd number')\n",
    "    i = i+1\n",
    "print(\"stop\")\n",
    "    "
   ]
  },
  {
   "cell_type": "code",
   "execution_count": 9,
   "metadata": {},
   "outputs": [
    {
     "name": "stdout",
     "output_type": "stream",
     "text": [
      "my name is marry\n",
      "my name is jesus\n",
      "my name is mark\n",
      "my name is lola\n",
      "my name can't be bob guys\n",
      "the end\n"
     ]
    }
   ],
   "source": [
    "# WAP to take user input and use  break also\n",
    "\n",
    "start = 1\n",
    "\n",
    "while(start <= 100):\n",
    "    name = input('enter a name')\n",
    "    if (name == 'bob'):\n",
    "        print(\"my name can't be bob guys\")\n",
    "        break\n",
    "    else:\n",
    "        print('my name is', name)\n",
    "print('the end')\n",
    "    \n",
    "\n"
   ]
  },
  {
   "cell_type": "code",
   "execution_count": 3,
   "metadata": {},
   "outputs": [
    {
     "name": "stdout",
     "output_type": "stream",
     "text": [
      "dear vidushi you are selected on this date 22 november congratulation!!!\n"
     ]
    }
   ],
   "source": [
    "# WAP to use the tempelate\n",
    "\n",
    "name = input('enter a name')\n",
    "date = input('enter a date')\n",
    "\n",
    "print(f'dear {name} you are selected on this date {date} congratulation!!!')"
   ]
  },
  {
   "cell_type": "code",
   "execution_count": 12,
   "metadata": {},
   "outputs": [
    {
     "name": "stdout",
     "output_type": "stream",
     "text": [
      " Dear VIDUSHI\n",
      "You are selected\n",
      "\n",
      "On this date 22 NOVEMBER\n",
      "congratulations !!!!\n"
     ]
    }
   ],
   "source": [
    "# OR\n",
    "\n",
    "LETTER = ''' Dear [name]\n",
    "You are selected\n",
    "\n",
    "On this date [date]\n",
    "congratulations !!!!'''\n",
    "\n",
    "name = input('enter a name')\n",
    "date = input('enter a date')\n",
    "\n",
    "LETTER = LETTER.replace('[name]',name)\n",
    "LETTER = LETTER.replace('[date]',date)\n",
    "\n",
    "print(LETTER)\n"
   ]
  },
  {
   "cell_type": "code",
   "execution_count": 21,
   "metadata": {},
   "outputs": [
    {
     "name": "stdout",
     "output_type": "stream",
     "text": [
      "hey this string contaions double   spaces  and length = 41\n",
      "hey this string contaions double  spaces and length = 40\n"
     ]
    }
   ],
   "source": [
    "# WAP to detect double spaces and replace with single spaces\n",
    "\n",
    "st = 'hey this string contaions double   spaces'\n",
    "print(st,' and length =',len(st))\n",
    "\n",
    "ds = st.replace('  ',' ')\n",
    "print(ds,'and length =',len(ds))"
   ]
  },
  {
   "cell_type": "code",
   "execution_count": 1,
   "metadata": {},
   "outputs": [
    {
     "name": "stdout",
     "output_type": "stream",
     "text": [
      "['banana', 'apple', 'orange', 'grape', 'gwaya', 'pinnaple', 'watermelon']\n"
     ]
    }
   ],
   "source": [
    "# WAP to store seven fruits in a list entered by the user\n",
    "\n",
    "fruits = input('enter 7 friuts name')\n",
    "\n",
    "format_fruits = fruits.split()\n",
    "\n",
    "print(format_fruits)\n"
   ]
  },
  {
   "cell_type": "code",
   "execution_count": 18,
   "metadata": {},
   "outputs": [
    {
     "name": "stdout",
     "output_type": "stream",
     "text": [
      "['12', '23', '45', '65', '76', '98']\n"
     ]
    }
   ],
   "source": [
    "# wap to accept marks of 6 students and display them in a sorted manner \n",
    "\n",
    "# marks = [98,77,82,60,79,87]\n",
    "\n",
    "marks = input('enter 6 students marks')\n",
    "\n",
    "m = marks.split()\n",
    "\n",
    "m.sort()\n",
    "print(m)\n"
   ]
  },
  {
   "cell_type": "code",
   "execution_count": 16,
   "metadata": {},
   "outputs": [
    {
     "name": "stdout",
     "output_type": "stream",
     "text": [
      "140\n"
     ]
    }
   ],
   "source": [
    "# wap to sum the list of 4 numbers \n",
    "\n",
    "numbers = [20,30,40,50]\n",
    "i = 0\n",
    "for number in numbers:\n",
    "    i = i + number\n",
    "print(i)\n",
    "    "
   ]
  },
  {
   "cell_type": "code",
   "execution_count": 21,
   "metadata": {},
   "outputs": [
    {
     "name": "stdout",
     "output_type": "stream",
     "text": [
      "[140]\n",
      "140\n"
     ]
    }
   ],
   "source": [
    "# OR\n",
    "\n",
    "\n",
    "numbers = [20,30,40,50]\n",
    "N = [numbers[0] + numbers[1] + numbers[2]+ numbers[3]]\n",
    "\n",
    "print(N) \n",
    "\n",
    "print(sum(numbers))"
   ]
  },
  {
   "cell_type": "code",
   "execution_count": 12,
   "metadata": {},
   "outputs": [
    {
     "data": {
      "text/plain": [
       "3"
      ]
     },
     "execution_count": 12,
     "metadata": {},
     "output_type": "execute_result"
    }
   ],
   "source": [
    "# wap to count the number of 0's in the following tuple \n",
    "\n",
    "tup = (1,2,3,4,0,7,8,0,0,2)\n",
    "tup.count(0)"
   ]
  },
  {
   "cell_type": "code",
   "execution_count": 1,
   "metadata": {},
   "outputs": [
    {
     "data": {
      "text/plain": [
       "3"
      ]
     },
     "execution_count": 1,
     "metadata": {},
     "output_type": "execute_result"
    }
   ],
   "source": [
    "y = 'stuff;thing;junk'\n",
    "\n",
    "z = y.split(';')\n",
    "len(z)"
   ]
  },
  {
   "cell_type": "code",
   "execution_count": 1,
   "metadata": {},
   "outputs": [
    {
     "name": "stdout",
     "output_type": "stream",
     "text": [
      "<class 'set'>\n",
      "{1, 2, 3, 4, 5, 6}\n"
     ]
    }
   ],
   "source": [
    "x ={1,2,3,4,5}\n",
    "print(type(x))\n",
    "x.add(5)\n",
    "x.add(6)\n",
    "print(x)"
   ]
  },
  {
   "cell_type": "code",
   "execution_count": 4,
   "metadata": {},
   "outputs": [
    {
     "name": "stdout",
     "output_type": "stream",
     "text": [
      "3\n"
     ]
    }
   ],
   "source": [
    "m = [1,2,3,4]\n",
    "print(m[-2])"
   ]
  },
  {
   "cell_type": "code",
   "execution_count": 6,
   "metadata": {},
   "outputs": [
    {
     "name": "stdout",
     "output_type": "stream",
     "text": [
      "[2, 'orange', 3.5]\n"
     ]
    }
   ],
   "source": [
    "mlist = [2,'apple',3.5]\n",
    "\n",
    "mlist[1] = 'orange'\n",
    "print(mlist)"
   ]
  },
  {
   "cell_type": "code",
   "execution_count": 7,
   "metadata": {},
   "outputs": [
    {
     "data": {
      "text/plain": [
       "True"
      ]
     },
     "execution_count": 7,
     "metadata": {},
     "output_type": "execute_result"
    }
   ],
   "source": [
    "5 != 6"
   ]
  },
  {
   "cell_type": "code",
   "execution_count": 4,
   "metadata": {},
   "outputs": [
    {
     "name": "stdout",
     "output_type": "stream",
     "text": [
      "[3, 67, 71, 23, 97, 90, 8, 60, 18, 64, 48, 79, 63, 13, 12, 15, 19, 38, 28, 13]\n"
     ]
    }
   ],
   "source": [
    "# create a list of size n, with random numbers from 0 to 100\n",
    "\n",
    "from random import randint\n",
    "\n",
    "# the size of list should be user defined\n",
    "\n",
    "x = []\n",
    "\n",
    "y = int(input('the size of the list'))\n",
    "\n",
    "for i in range(y):\n",
    "    num = randint(0,100)\n",
    "    x.append(num)\n",
    "    \n",
    "print(x)\n",
    "    \n",
    "\n",
    "\n"
   ]
  },
  {
   "cell_type": "code",
   "execution_count": 7,
   "metadata": {},
   "outputs": [],
   "source": [
    "# generate a list of 25 elements , then create a smaller list of numbers from that list based on following conditions\n",
    "- number that is divisible by 3\n",
    "- number that is divisible by 5\n",
    "- number that is divisible by 3 and 5"
   ]
  },
  {
   "cell_type": "code",
   "execution_count": 12,
   "metadata": {},
   "outputs": [
    {
     "name": "stdout",
     "output_type": "stream",
     "text": [
      "[100, 102, 105, 105, 105, 108, 110, 111, 114, 115, 117, 120, 120, 120, 123, 125]\n"
     ]
    }
   ],
   "source": [
    "l = list(range(100,126))\n",
    "\n",
    "# print(l)\n",
    "\n",
    "x = []\n",
    "\n",
    "for i in l:\n",
    "    if(i % 3==0):\n",
    "        x.append(i)\n",
    "    if(i % 5==0):\n",
    "          x.append(i)\n",
    "    if(i % 3==0 and i % 5==0):\n",
    "          x.append(i)\n",
    "print(x)\n",
    "          "
   ]
  },
  {
   "cell_type": "code",
   "execution_count": 19,
   "metadata": {},
   "outputs": [
    {
     "name": "stdout",
     "output_type": "stream",
     "text": [
      "[101, 102, 103, 105, 106, 107, 109, 110, 111, 113, 114, 115, 117, 118, 119, 121, 122, 123, 125]\n"
     ]
    }
   ],
   "source": [
    "# remove every 3rd element from the list of size 25 and display and print the list \n",
    "\n",
    "\n",
    "l = list(range(100,126))\n",
    "\n",
    "# print(l)\n",
    "\n",
    "x = []\n",
    "\n",
    "for i,v  in enumerate (l):\n",
    "    # print(i,v)\n",
    "    if(i%3==0):\n",
    "        l.pop(i)\n",
    "print(l)\n",
    "    \n",
    "    \n",
    "# how it is working??????????\n"
   ]
  },
  {
   "cell_type": "code",
   "execution_count": 21,
   "metadata": {},
   "outputs": [
    {
     "name": "stdout",
     "output_type": "stream",
     "text": [
      "None\n"
     ]
    }
   ],
   "source": [
    "# take names of 10 movies from user and store them in a list, then display the list in sorted order\n",
    "\n",
    "\n",
    "x = []\n",
    "\n",
    "y = 10\n",
    "\n",
    "for i in range(y):\n",
    "    enter = input('movie names')\n",
    "    x.append(enter)\n",
    "    \n",
    "\n",
    "print(x.sort())"
   ]
  },
  {
   "cell_type": "code",
   "execution_count": 24,
   "metadata": {},
   "outputs": [
    {
     "name": "stdout",
     "output_type": "stream",
     "text": [
      "{'pankha': 'fan', 'tala': 'lock', 'dabba': 'box'}\n",
      "the meaning of this hindi word tala = lock\n"
     ]
    }
   ],
   "source": [
    "# WAP inorder to make a user input dictionary where transaltion of hind words are given in english and after that \n",
    "# provide user an option to look it up for any word\n",
    "\n",
    "my_dict = {}\n",
    "\n",
    "y = int(input('number of keys'))\n",
    "\n",
    "for i in range(y):\n",
    "    keys = input('enter keys \\n')\n",
    "    val = input('enter values \\n')\n",
    "    my_dict.update({keys: val})\n",
    "print(my_dict)\n",
    "\n",
    "l = input('enter keys from dictionary')\n",
    "\n",
    "print('the meaning of this hindi word , ' , l ,'=' ,my_dict[l])\n",
    "\n",
    "    \n",
    "    "
   ]
  },
  {
   "cell_type": "code",
   "execution_count": 27,
   "metadata": {},
   "outputs": [
    {
     "name": "stdout",
     "output_type": "stream",
     "text": [
      "100,101,187,198,101,100,345,98,{'100', '98', '345', '101', '198', '187'}\n"
     ]
    }
   ],
   "source": [
    "# WAP to input 8 numbers from the user and display all the unique numbers once\n",
    "\n",
    "\n",
    "a = set()\n",
    "\n",
    "for i in range(8):\n",
    "    x  = input('enter numbers')\n",
    "    print(x,end = ',')\n",
    "    a.add(x)\n",
    "print(a)"
   ]
  },
  {
   "cell_type": "code",
   "execution_count": 31,
   "metadata": {},
   "outputs": [
    {
     "name": "stdout",
     "output_type": "stream",
     "text": [
      "{20, '20'}\n",
      "2\n"
     ]
    }
   ],
   "source": [
    "s = set()\n",
    "\n",
    "s.add(20)\n",
    "s.add(20.0)\n",
    "s.add('20')\n",
    "\n",
    "print(s)\n",
    "print(len(s))"
   ]
  },
  {
   "cell_type": "code",
   "execution_count": 2,
   "metadata": {},
   "outputs": [
    {
     "name": "stdout",
     "output_type": "stream",
     "text": [
      "jay , python\n",
      "ray , java\n",
      "shrey , c\n",
      "clay , kotlin\n",
      "{'jay': 'python', 'ray': 'java', 'shrey': 'c', 'clay': 'kotlin'}\n"
     ]
    }
   ],
   "source": [
    "# WAP create an empty dictionary. Allow 4 freinds to enter their fav lang as values and their names as keys \n",
    "\n",
    "a = {}\n",
    "\n",
    "for i in range (4):\n",
    "    key = input('enter names\\n')\n",
    "    val = input('enter language\\n')\n",
    "    print(key,',', val)\n",
    "    a.update({key : val})\n",
    "\n",
    "print(a)"
   ]
  },
  {
   "cell_type": "code",
   "execution_count": 4,
   "metadata": {},
   "outputs": [
    {
     "name": "stdout",
     "output_type": "stream",
     "text": [
      "age is not greater than 18\n"
     ]
    }
   ],
   "source": [
    "# WAP to print yes when the age entered by the user is greater than or equal to 18\n",
    "\n",
    "age = int(input('enter the age'))\n",
    "\n",
    "if(age >= 18):\n",
    "    print('yes')\n",
    "else:\n",
    "    print('age is not greater than 18')"
   ]
  },
  {
   "cell_type": "code",
   "execution_count": 7,
   "metadata": {},
   "outputs": [
    {
     "name": "stdout",
     "output_type": "stream",
     "text": [
      "[12, 15, 17, 25]\n",
      "THIS IS THE GRETAEST 25\n"
     ]
    }
   ],
   "source": [
    "# WAP to find greatest of four numbers entered by the user\n",
    "\n",
    "x = []\n",
    "a = 4\n",
    "\n",
    "\n",
    "for i in range(a):\n",
    "    num = int(input('enter the no.'))\n",
    "    x.append(num)\n",
    "print(x)\n",
    "\n",
    "if x[0]>x[1]:\n",
    "    f1 = x[0]\n",
    "else:\n",
    "    f1 = x[1]\n",
    "    \n",
    "if x[2] > x[3]:\n",
    "    f2 = x[2]\n",
    "else:\n",
    "    f2 = x[3]\n",
    "    \n",
    "if f1 > f2:\n",
    "    print(F'THIS IS THE GRETAEST {f1}')\n",
    "else:\n",
    "    print(f'THIS IS THE GRETAEST {f2}')\n",
    "  \n",
    "\n",
    "\n",
    "\n"
   ]
  },
  {
   "cell_type": "code",
   "execution_count": 4,
   "metadata": {},
   "outputs": [
    {
     "name": "stdout",
     "output_type": "stream",
     "text": [
      "[57, 35, 67]\n",
      "you are pass\n"
     ]
    }
   ],
   "source": [
    "# WAP to find out whether a student is pass or fail , if it requires total 40% and at least 33% in each subj to pass\n",
    "# assume there are 3 subj and take marks as input from the user\n",
    " \n",
    " \n",
    "# TOTAL = 100\n",
    "\n",
    "x = []\n",
    "\n",
    "for i in range(3):\n",
    "    marks = int(input('enter marks please'))\n",
    "    x.append(marks)\n",
    "print(x)\n",
    "\n",
    "if(x[0] < 33 or x[1] < 33 or x[2] < 33):\n",
    "    print('you failed')\n",
    "elif(sum(x)/3 < 40):\n",
    "    print('you are fail beacuse of total less than 40 percent')\n",
    "else:\n",
    "    print('you are pass')"
   ]
  },
  {
   "cell_type": "code",
   "execution_count": 9,
   "metadata": {},
   "outputs": [
    {
     "name": "stdout",
     "output_type": "stream",
     "text": [
      "i recently subscribe this youtube channel \n",
      "spam = True\n"
     ]
    }
   ],
   "source": [
    "# wap to detect these spam comments\n",
    "#'make a lot of money' , 'buy now' , 'subscribe this' , 'click this'\n",
    "\n",
    "\n",
    "a = 'make a lot of money'\n",
    "b = 'buy now'\n",
    "c = 'subscribe this'\n",
    "d = 'click this'\n",
    "\n",
    "str = input('enter the string')\n",
    "print(str)\n",
    "\n",
    "if a in str or b in str or c in str or d in str:\n",
    "   print(\"spam = True\")\n",
    "else:\n",
    "   print('spam = False')"
   ]
  },
  {
   "cell_type": "code",
   "execution_count": 11,
   "metadata": {},
   "outputs": [
    {
     "name": "stdout",
     "output_type": "stream",
     "text": [
      "31\n",
      "big \n",
      "world \n",
      "not \n",
      "all \n",
      "of \n",
      "it \n",
      "['big ', 'world ', 'not ', 'all ', 'of ', 'it ']\n"
     ]
    }
   ],
   "source": [
    "# WAP to seperate words in a string without using split function \n",
    "\n",
    "a = 'big world not all of it flowers'\n",
    "b = len(a)\n",
    "print(b)\n",
    "s = ''\n",
    "li = []\n",
    "for i in a:\n",
    "    s = s+i\n",
    "    if(i ==  ' ' ):\n",
    "        print(s)\n",
    "        li.append(s)\n",
    "        s = ''\n",
    "print(li)\n",
    "        \n",
    "    \n",
    "    \n"
   ]
  },
  {
   "cell_type": "code",
   "execution_count": 12,
   "metadata": {},
   "outputs": [
    {
     "name": "stdout",
     "output_type": "stream",
     "text": [
      "vidushi\n",
      "length of username is less than 10\n"
     ]
    }
   ],
   "source": [
    "# WAP to find whether a given username contain less than 10 characters or not\n",
    "\n",
    "name = input('enter your name : ')\n",
    "\n",
    "print(name)\n",
    "\n",
    "if len(name)< 10:\n",
    "    print('length of username is less than 10')\n",
    "else:\n",
    "    print('length is greater than 10')"
   ]
  },
  {
   "cell_type": "code",
   "execution_count": 14,
   "metadata": {},
   "outputs": [
    {
     "name": "stdout",
     "output_type": "stream",
     "text": [
      "12\n",
      "12 * 1 = 12\n",
      "12 * 2 = 24\n",
      "12 * 3 = 36\n",
      "12 * 4 = 48\n",
      "12 * 5 = 60\n",
      "12 * 6 = 72\n",
      "12 * 7 = 84\n",
      "12 * 8 = 96\n",
      "12 * 9 = 108\n",
      "12 * 10 = 120\n"
     ]
    }
   ],
   "source": [
    "# WAP to print multipilcation table of a given number using for loop\n",
    "\n",
    "num = int(input('enter number :'))\n",
    "print(num)\n",
    "\n",
    "for i in range(1,11):\n",
    "    multPli = num * i\n",
    "    print(num, '*', i, '=', multPli)"
   ]
  },
  {
   "cell_type": "code",
   "execution_count": 2,
   "metadata": {},
   "outputs": [
    {
     "name": "stdout",
     "output_type": "stream",
     "text": [
      "Hello sohan\n",
      "Hello shyam\n",
      "Hello sushil\n"
     ]
    }
   ],
   "source": [
    "# WAP to greet all persons name stored in a list L1 and which starts with S\n",
    "\n",
    "l1 = ['vids','sohan','mohan','shyam','sushil']\n",
    "\n",
    "for name in l1:\n",
    "    if name[0] == 's':  # here when name at 0 index i.e the first letter of the name matches with s then it will going to print\n",
    "        print('Hello', name)"
   ]
  },
  {
   "cell_type": "code",
   "execution_count": 9,
   "metadata": {},
   "outputs": [
    {
     "name": "stdout",
     "output_type": "stream",
     "text": [
      "Hello sohan\n",
      "Hello shyam\n",
      "Hello sushil\n"
     ]
    },
    {
     "ename": "IndexError",
     "evalue": "list index out of range",
     "output_type": "error",
     "traceback": [
      "\u001b[1;31m---------------------------------------------------------------------------\u001b[0m",
      "\u001b[1;31mIndexError\u001b[0m                                Traceback (most recent call last)",
      "\u001b[1;32mc:\\Users\\user\\Documents\\python\\personal_work.ipynb Cell 37'\u001b[0m in \u001b[0;36m<cell line: 7>\u001b[1;34m()\u001b[0m\n\u001b[0;32m      <a href='vscode-notebook-cell:/c%3A/Users/user/Documents/python/personal_work.ipynb#ch0000036?line=4'>5</a>\u001b[0m i \u001b[39m=\u001b[39m \u001b[39m0\u001b[39m\n\u001b[0;32m      <a href='vscode-notebook-cell:/c%3A/Users/user/Documents/python/personal_work.ipynb#ch0000036?line=6'>7</a>\u001b[0m \u001b[39mwhile\u001b[39;00m i \u001b[39m<\u001b[39m\u001b[39m=\u001b[39m \u001b[39mlen\u001b[39m(l1):\n\u001b[1;32m----> <a href='vscode-notebook-cell:/c%3A/Users/user/Documents/python/personal_work.ipynb#ch0000036?line=7'>8</a>\u001b[0m     name \u001b[39m=\u001b[39m l1[i]\n\u001b[0;32m      <a href='vscode-notebook-cell:/c%3A/Users/user/Documents/python/personal_work.ipynb#ch0000036?line=8'>9</a>\u001b[0m     \u001b[39mif\u001b[39;00m name[\u001b[39m0\u001b[39m] \u001b[39m==\u001b[39m \u001b[39m'\u001b[39m\u001b[39ms\u001b[39m\u001b[39m'\u001b[39m:\n\u001b[0;32m     <a href='vscode-notebook-cell:/c%3A/Users/user/Documents/python/personal_work.ipynb#ch0000036?line=9'>10</a>\u001b[0m         \u001b[39mprint\u001b[39m(\u001b[39m'\u001b[39m\u001b[39mHello\u001b[39m\u001b[39m'\u001b[39m, name)\n",
      "\u001b[1;31mIndexError\u001b[0m: list index out of range"
     ]
    }
   ],
   "source": [
    "# WAP to greet all persons name stored in a list L1 and which starts with S using while loop\n",
    "\n",
    "l1 = ['vids','sohan','mohan','shyam','sushil']\n",
    "\n",
    "i = 0\n",
    "\n",
    "while i <= len(l1):\n",
    "    name = l1[i]\n",
    "    if name[0] == 's':\n",
    "        print('Hello', name)\n",
    "    i = i+1"
   ]
  },
  {
   "cell_type": "code",
   "execution_count": 13,
   "metadata": {},
   "outputs": [
    {
     "name": "stdout",
     "output_type": "stream",
     "text": [
      "20 is not prime number\n"
     ]
    }
   ],
   "source": [
    "# WAP to find whether a given number is prime or not\n",
    "\n",
    "number = int(input('enter number'))\n",
    "\n",
    "\n",
    "for num in range(2,number):\n",
    "    if number % num == 0:\n",
    "        print(number,'is not prime number')\n",
    "        break\n",
    "    else:\n",
    "        print(number ,'is prime number')"
   ]
  },
  {
   "cell_type": "code",
   "execution_count": 7,
   "metadata": {},
   "outputs": [
    {
     "name": "stdout",
     "output_type": "stream",
     "text": [
      "15\n"
     ]
    }
   ],
   "source": [
    "# WAP to find the sum of first n natural numbers using while loop\n",
    "\n",
    "i = 0\n",
    "s = 0\n",
    "num = int(input('enter number'))\n",
    "\n",
    "while s <= num:\n",
    "    i = i + s\n",
    "    s = s+1\n",
    "    \n",
    "print(i)\n",
    "    "
   ]
  },
  {
   "cell_type": "code",
   "execution_count": 15,
   "metadata": {},
   "outputs": [
    {
     "name": "stdout",
     "output_type": "stream",
     "text": [
      "1\n",
      "2\n",
      "3\n",
      "4\n",
      "5\n",
      "120\n"
     ]
    }
   ],
   "source": [
    "# WAP to calculate the factorial of a given number using  for loop\n",
    "\n",
    "number = int(input('enter number'))\n",
    "s = 1\n",
    "\n",
    "for i in range(number): # 0,1,2\n",
    "    i = i+1  # 1,2,3\n",
    "    print(i)\n",
    "    s = s*i\n",
    "    \n",
    "print(s)\n"
   ]
  },
  {
   "cell_type": "code",
   "execution_count": 18,
   "metadata": {},
   "outputs": [
    {
     "name": "stdout",
     "output_type": "stream",
     "text": [
      "the factorial of number 5 is 120\n"
     ]
    }
   ],
   "source": [
    "# OR\n",
    "number = int(input('enter number'))\n",
    "s = 1\n",
    "for i in range(1,num+1): # num + 1 , cause loop will work till the number instead of 1 - num\n",
    "    s = s*i #1,2,6,24,120\n",
    "    \n",
    "print(f'the factorial of number {num} is {s}')"
   ]
  },
  {
   "cell_type": "code",
   "execution_count": 27,
   "metadata": {},
   "outputs": [
    {
     "name": "stdout",
     "output_type": "stream",
     "text": [
      "                              \n",
      "              #               \n",
      "             # #              \n",
      "            # # #             \n",
      "           # # # #            \n",
      "          # # # # #           \n"
     ]
    }
   ],
   "source": [
    "# wap to print the following star pattern\n",
    "\n",
    "for i in range(6):\n",
    "    print(('# ' * i).center(30))"
   ]
  },
  {
   "cell_type": "code",
   "execution_count": 24,
   "metadata": {},
   "outputs": [
    {
     "name": "stdout",
     "output_type": "stream",
     "text": [
      "\n",
      "# \n",
      "# # \n",
      "# # # \n",
      "# # # # \n",
      "# # # # # \n"
     ]
    }
   ],
   "source": [
    "for i in range(6):\n",
    "    print('# ' * i)"
   ]
  },
  {
   "cell_type": "code",
   "execution_count": 31,
   "metadata": {},
   "outputs": [
    {
     "name": "stdout",
     "output_type": "stream",
     "text": [
      "\n",
      "* * * \n",
      "*   *   \n",
      "* * * \n"
     ]
    }
   ],
   "source": [
    "for i in range(4):\n",
    "    if i % 3 ==0:\n",
    "        print(i*'* ')\n",
    "    elif i % 2 == 0:\n",
    "        print((i+1) * '* ')\n",
    "        print(i*'*   ')\n",
    "        \n",
    "    "
   ]
  },
  {
   "cell_type": "code",
   "execution_count": 5,
   "metadata": {},
   "outputs": [
    {
     "name": "stdout",
     "output_type": "stream",
     "text": [
      "18\n"
     ]
    }
   ],
   "source": [
    "# WAF to find the greatest of the three number \n",
    "\n",
    "x = [12,18,13]\n",
    "def greatest():\n",
    "    y = x.sort()\n",
    "    z = x[2]\n",
    "    return z\n",
    "\n",
    "v = greatest()\n",
    "print(v)"
   ]
  },
  {
   "cell_type": "code",
   "execution_count": 7,
   "metadata": {},
   "outputs": [
    {
     "name": "stdout",
     "output_type": "stream",
     "text": [
      " fahrenheit =  109.4\n"
     ]
    }
   ],
   "source": [
    "# WAF to convert celcius into farenheit\n",
    "\n",
    "def conversion(cel):\n",
    "\n",
    "    convert = (cel * 1.8) + 32\n",
    "\n",
    "    return  convert\n",
    "\n",
    "far = conversion(43)\n",
    "print(' fahrenheit = ', far)"
   ]
  },
  {
   "cell_type": "code",
   "execution_count": 10,
   "metadata": {},
   "outputs": [
    {
     "name": "stdout",
     "output_type": "stream",
     "text": [
      "***\n",
      "**\n",
      "*\n",
      "\n",
      "None\n"
     ]
    }
   ],
   "source": [
    "# WAf to print the pattern\n",
    "def patt(n):\n",
    "    for i in range(4):\n",
    "        print((n-i)*'*')\n",
    "\n",
    "a = patt(3)\n",
    "print(a)"
   ]
  },
  {
   "cell_type": "code",
   "execution_count": null,
   "metadata": {},
   "outputs": [],
   "source": []
  },
  {
   "cell_type": "code",
   "execution_count": null,
   "metadata": {},
   "outputs": [],
   "source": []
  }
 ],
 "metadata": {
  "interpreter": {
   "hash": "fb4569285eef3a3450cb62085a5b1e0da4bce0af555edc33dcf29baf3acc1368"
  },
  "kernelspec": {
   "display_name": "Python 3.10.2 64-bit",
   "language": "python",
   "name": "python3"
  },
  "language_info": {
   "codemirror_mode": {
    "name": "ipython",
    "version": 3
   },
   "file_extension": ".py",
   "mimetype": "text/x-python",
   "name": "python",
   "nbconvert_exporter": "python",
   "pygments_lexer": "ipython3",
   "version": "3.10.2"
  },
  "orig_nbformat": 4
 },
 "nbformat": 4,
 "nbformat_minor": 2
}

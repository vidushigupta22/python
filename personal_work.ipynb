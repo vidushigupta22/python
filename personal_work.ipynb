{
 "cells": [
  {
   "cell_type": "code",
   "execution_count": null,
   "metadata": {},
   "outputs": [],
   "source": [
    "# ctrl+ forward slash --> used for commenting and uncommenting\n",
    "\n",
    "# windows + . --> used for applying similys\n",
    "\n",
    "# colon at the end of the statement represtents , start of the code\n",
    "\n",
    "# diference between = and == is that = is used to assign the values and == is to check the the values\n",
    "\n"
   ]
  },
  {
   "cell_type": "code",
   "execution_count": 6,
   "metadata": {},
   "outputs": [
    {
     "name": "stdout",
     "output_type": "stream",
     "text": [
      "The average of num1 and num2 is 30.0\n"
     ]
    }
   ],
   "source": [
    "# write a python program to find the average of two numbers entered by the user\n",
    "\n",
    "num1 = int(input('enter a no.'))\n",
    "num2 = int(input('enter a another no.'))\n",
    "\n",
    "print('The average of num1 and num2 is',(num1+num2)/2)"
   ]
  },
  {
   "cell_type": "code",
   "execution_count": 7,
   "metadata": {},
   "outputs": [
    {
     "name": "stdout",
     "output_type": "stream",
     "text": [
      "The square of a is 225\n"
     ]
    }
   ],
   "source": [
    "# WAP to calculate the square of the number entered by the user \n",
    "\n",
    "a = int(input('enter a number'))\n",
    "print('The square of a is', a*a)"
   ]
  },
  {
   "cell_type": "code",
   "execution_count": 1,
   "metadata": {},
   "outputs": [
    {
     "name": "stdout",
     "output_type": "stream",
     "text": [
      "1275\n"
     ]
    }
   ],
   "source": [
    "# WAP to add numbers starting from 1 to 50 using while loop\n",
    "\n",
    "num = 1\n",
    "i = 0\n",
    "while(num<=50):\n",
    "    i = i+num\n",
    "    num = num+1\n",
    "print(i)\n",
    "    \n"
   ]
  },
  {
   "cell_type": "code",
   "execution_count": 6,
   "metadata": {},
   "outputs": [
    {
     "name": "stdout",
     "output_type": "stream",
     "text": [
      "1 is an odd number\n",
      "2 is an even number\n",
      "3 is an odd number\n",
      "4 is an even number\n",
      "5 is an odd number\n",
      "6 is an even number\n",
      "7 is an odd number\n",
      "8 is an even number\n",
      "9 is an odd number\n",
      "stop\n"
     ]
    }
   ],
   "source": [
    "#WAP using break statement \n",
    "\n",
    "i = 1\n",
    "\n",
    "while(i <= 15):\n",
    "    if(i % 10 == 0):\n",
    "        break\n",
    "    elif(i % 2==0):\n",
    "        print(f'{i} is an even number')\n",
    "    else:\n",
    "        print(f'{i} is an odd number')\n",
    "    i = i+1\n",
    "print(\"stop\")\n",
    "    "
   ]
  },
  {
   "cell_type": "code",
   "execution_count": 9,
   "metadata": {},
   "outputs": [
    {
     "name": "stdout",
     "output_type": "stream",
     "text": [
      "my name is marry\n",
      "my name is jesus\n",
      "my name is mark\n",
      "my name is lola\n",
      "my name can't be bob guys\n",
      "the end\n"
     ]
    }
   ],
   "source": [
    "# WAP to take user input and use  break also\n",
    "\n",
    "start = 1\n",
    "\n",
    "while(start <= 100):\n",
    "    name = input('enter a name')\n",
    "    if (name == 'bob'):\n",
    "        print(\"my name can't be bob guys\")\n",
    "        break\n",
    "    else:\n",
    "        print('my name is', name)\n",
    "print('the end')\n",
    "    \n",
    "\n"
   ]
  },
  {
   "cell_type": "code",
   "execution_count": 3,
   "metadata": {},
   "outputs": [
    {
     "name": "stdout",
     "output_type": "stream",
     "text": [
      "dear vidushi you are selected on this date 22 november congratulation!!!\n"
     ]
    }
   ],
   "source": [
    "# WAP to use the tempelate\n",
    "\n",
    "name = input('enter a name')\n",
    "date = input('enter a date')\n",
    "\n",
    "print(f'dear {name} you are selected on this date {date} congratulation!!!')"
   ]
  },
  {
   "cell_type": "code",
   "execution_count": 12,
   "metadata": {},
   "outputs": [
    {
     "name": "stdout",
     "output_type": "stream",
     "text": [
      " Dear VIDUSHI\n",
      "You are selected\n",
      "\n",
      "On this date 22 NOVEMBER\n",
      "congratulations !!!!\n"
     ]
    }
   ],
   "source": [
    "# OR\n",
    "\n",
    "LETTER = ''' Dear [name]\n",
    "You are selected\n",
    "\n",
    "On this date [date]\n",
    "congratulations !!!!'''\n",
    "\n",
    "name = input('enter a name')\n",
    "date = input('enter a date')\n",
    "\n",
    "LETTER = LETTER.replace('[name]',name)\n",
    "LETTER = LETTER.replace('[date]',date)\n",
    "\n",
    "print(LETTER)\n"
   ]
  },
  {
   "cell_type": "code",
   "execution_count": 21,
   "metadata": {},
   "outputs": [
    {
     "name": "stdout",
     "output_type": "stream",
     "text": [
      "hey this string contaions double   spaces  and length = 41\n",
      "hey this string contaions double  spaces and length = 40\n"
     ]
    }
   ],
   "source": [
    "# WAP to detect double spaces and replace with single spaces\n",
    "\n",
    "st = 'hey this string contaions double   spaces'\n",
    "print(st,' and length =',len(st))\n",
    "\n",
    "ds = st.replace('  ',' ')\n",
    "print(ds,'and length =',len(ds))"
   ]
  },
  {
   "cell_type": "code",
   "execution_count": 1,
   "metadata": {},
   "outputs": [
    {
     "name": "stdout",
     "output_type": "stream",
     "text": [
      "['banana', 'apple', 'orange', 'grape', 'gwaya', 'pinnaple', 'watermelon']\n"
     ]
    }
   ],
   "source": [
    "# WAP to store seven fruits in a list entered by the user\n",
    "\n",
    "fruits = input('enter 7 friuts name')\n",
    "\n",
    "format_fruits = fruits.split()\n",
    "\n",
    "print(format_fruits)\n"
   ]
  },
  {
   "cell_type": "code",
   "execution_count": 18,
   "metadata": {},
   "outputs": [
    {
     "name": "stdout",
     "output_type": "stream",
     "text": [
      "['12', '23', '45', '65', '76', '98']\n"
     ]
    }
   ],
   "source": [
    "# wap to accept marks of 6 students and display them in a sorted manner \n",
    "\n",
    "# marks = [98,77,82,60,79,87]\n",
    "\n",
    "marks = input('enter 6 students marks')\n",
    "\n",
    "m = marks.split()\n",
    "\n",
    "m.sort()\n",
    "print(m)\n"
   ]
  },
  {
   "cell_type": "code",
   "execution_count": 16,
   "metadata": {},
   "outputs": [
    {
     "name": "stdout",
     "output_type": "stream",
     "text": [
      "140\n"
     ]
    }
   ],
   "source": [
    "# wap to sum the list of 4 numbers \n",
    "\n",
    "numbers = [20,30,40,50]\n",
    "i = 0\n",
    "for number in numbers:\n",
    "    i = i + number\n",
    "print(i)\n",
    "    "
   ]
  },
  {
   "cell_type": "code",
   "execution_count": 21,
   "metadata": {},
   "outputs": [
    {
     "name": "stdout",
     "output_type": "stream",
     "text": [
      "[140]\n",
      "140\n"
     ]
    }
   ],
   "source": [
    "# OR\n",
    "\n",
    "\n",
    "numbers = [20,30,40,50]\n",
    "N = [numbers[0] + numbers[1] + numbers[2]+ numbers[3]]\n",
    "\n",
    "print(N) \n",
    "\n",
    "print(sum(numbers))"
   ]
  },
  {
   "cell_type": "code",
   "execution_count": 12,
   "metadata": {},
   "outputs": [
    {
     "data": {
      "text/plain": [
       "3"
      ]
     },
     "execution_count": 12,
     "metadata": {},
     "output_type": "execute_result"
    }
   ],
   "source": [
    "# wap to count the number of 0's in the following tuple \n",
    "\n",
    "tup = (1,2,3,4,0,7,8,0,0,2)\n",
    "tup.count(0)"
   ]
  },
  {
   "cell_type": "code",
   "execution_count": 1,
   "metadata": {},
   "outputs": [
    {
     "data": {
      "text/plain": [
       "3"
      ]
     },
     "execution_count": 1,
     "metadata": {},
     "output_type": "execute_result"
    }
   ],
   "source": [
    "y = 'stuff;thing;junk'\n",
    "\n",
    "z = y.split(';')\n",
    "len(z)"
   ]
  },
  {
   "cell_type": "code",
   "execution_count": 1,
   "metadata": {},
   "outputs": [
    {
     "name": "stdout",
     "output_type": "stream",
     "text": [
      "<class 'set'>\n",
      "{1, 2, 3, 4, 5, 6}\n"
     ]
    }
   ],
   "source": [
    "x ={1,2,3,4,5}\n",
    "print(type(x))\n",
    "x.add(5)\n",
    "x.add(6)\n",
    "print(x)"
   ]
  },
  {
   "cell_type": "code",
   "execution_count": 4,
   "metadata": {},
   "outputs": [
    {
     "name": "stdout",
     "output_type": "stream",
     "text": [
      "3\n"
     ]
    }
   ],
   "source": [
    "m = [1,2,3,4]\n",
    "print(m[-2])"
   ]
  },
  {
   "cell_type": "code",
   "execution_count": 6,
   "metadata": {},
   "outputs": [
    {
     "name": "stdout",
     "output_type": "stream",
     "text": [
      "[2, 'orange', 3.5]\n"
     ]
    }
   ],
   "source": [
    "mlist = [2,'apple',3.5]\n",
    "\n",
    "mlist[1] = 'orange'\n",
    "print(mlist)"
   ]
  },
  {
   "cell_type": "code",
   "execution_count": 7,
   "metadata": {},
   "outputs": [
    {
     "data": {
      "text/plain": [
       "True"
      ]
     },
     "execution_count": 7,
     "metadata": {},
     "output_type": "execute_result"
    }
   ],
   "source": [
    "5 != 6"
   ]
  },
  {
   "cell_type": "code",
   "execution_count": 4,
   "metadata": {},
   "outputs": [
    {
     "name": "stdout",
     "output_type": "stream",
     "text": [
      "[3, 67, 71, 23, 97, 90, 8, 60, 18, 64, 48, 79, 63, 13, 12, 15, 19, 38, 28, 13]\n"
     ]
    }
   ],
   "source": [
    "# create a list of size n, with random numbers from 0 to 100\n",
    "\n",
    "from random import randint\n",
    "\n",
    "# the size of list should be user defined\n",
    "\n",
    "x = []\n",
    "\n",
    "y = int(input('the size of the list'))\n",
    "\n",
    "for i in range(y):\n",
    "    num = randint(0,100)\n",
    "    x.append(num)\n",
    "    \n",
    "print(x)\n",
    "    \n",
    "\n",
    "\n"
   ]
  },
  {
   "cell_type": "code",
   "execution_count": 7,
   "metadata": {},
   "outputs": [],
   "source": [
    "# generate a list of 25 elements , then create a smaller list of numbers from that list based on following conditions\n",
    "- number that is divisible by 3\n",
    "- number that is divisible by 5\n",
    "- number that is divisible by 3 and 5"
   ]
  },
  {
   "cell_type": "code",
   "execution_count": 12,
   "metadata": {},
   "outputs": [
    {
     "name": "stdout",
     "output_type": "stream",
     "text": [
      "[100, 102, 105, 105, 105, 108, 110, 111, 114, 115, 117, 120, 120, 120, 123, 125]\n"
     ]
    }
   ],
   "source": [
    "l = list(range(100,126))\n",
    "\n",
    "# print(l)\n",
    "\n",
    "x = []\n",
    "\n",
    "for i in l:\n",
    "    if(i % 3==0):\n",
    "        x.append(i)\n",
    "    if(i % 5==0):\n",
    "          x.append(i)\n",
    "    if(i % 3==0 and i % 5==0):\n",
    "          x.append(i)\n",
    "print(x)\n",
    "          "
   ]
  },
  {
   "cell_type": "code",
   "execution_count": 19,
   "metadata": {},
   "outputs": [
    {
     "name": "stdout",
     "output_type": "stream",
     "text": [
      "[101, 102, 103, 105, 106, 107, 109, 110, 111, 113, 114, 115, 117, 118, 119, 121, 122, 123, 125]\n"
     ]
    }
   ],
   "source": [
    "# remove every 3rd element from the list of size 25 and display and print the list \n",
    "\n",
    "\n",
    "l = list(range(100,126))\n",
    "\n",
    "# print(l)\n",
    "\n",
    "x = []\n",
    "\n",
    "for i,v  in enumerate (l):\n",
    "    # print(i,v)\n",
    "    if(i%3==0):\n",
    "        l.pop(i)\n",
    "print(l)\n",
    "    \n",
    "    \n",
    "# how it is working??????????\n"
   ]
  },
  {
   "cell_type": "code",
   "execution_count": 21,
   "metadata": {},
   "outputs": [
    {
     "name": "stdout",
     "output_type": "stream",
     "text": [
      "None\n"
     ]
    }
   ],
   "source": [
    "# take names of 10 movies from user and store them in a list, then display the list in sorted order\n",
    "\n",
    "\n",
    "x = []\n",
    "\n",
    "y = 10\n",
    "\n",
    "for i in range(y):\n",
    "    enter = input('movie names')\n",
    "    x.append(enter)\n",
    "    \n",
    "\n",
    "print(x.sort())"
   ]
  },
  {
   "cell_type": "code",
   "execution_count": 24,
   "metadata": {},
   "outputs": [
    {
     "name": "stdout",
     "output_type": "stream",
     "text": [
      "{'pankha': 'fan', 'tala': 'lock', 'dabba': 'box'}\n",
      "the meaning of this hindi word tala = lock\n"
     ]
    }
   ],
   "source": [
    "# WAP inorder to make a user input dictionary where transaltion of hind words are given in english and after that \n",
    "# provide user an option to look it up for any word\n",
    "\n",
    "my_dict = {}\n",
    "\n",
    "y = int(input('number of keys'))\n",
    "\n",
    "for i in range(y):\n",
    "    keys = input('enter keys \\n')\n",
    "    val = input('enter values \\n')\n",
    "    my_dict.update({keys: val})\n",
    "print(my_dict)\n",
    "\n",
    "l = input('enter keys from dictionary')\n",
    "\n",
    "print('the meaning of this hindi word , ' , l ,'=' ,my_dict[l])\n",
    "\n",
    "    \n",
    "    "
   ]
  },
  {
   "cell_type": "code",
   "execution_count": 27,
   "metadata": {},
   "outputs": [
    {
     "name": "stdout",
     "output_type": "stream",
     "text": [
      "100,101,187,198,101,100,345,98,{'100', '98', '345', '101', '198', '187'}\n"
     ]
    }
   ],
   "source": [
    "# WAP to input 8 numbers from the user and display all the unique numbers once\n",
    "\n",
    "\n",
    "a = set()\n",
    "\n",
    "for i in range(8):\n",
    "    x  = input('enter numbers')\n",
    "    print(x,end = ',')\n",
    "    a.add(x)\n",
    "print(a)"
   ]
  },
  {
   "cell_type": "code",
   "execution_count": 31,
   "metadata": {},
   "outputs": [
    {
     "name": "stdout",
     "output_type": "stream",
     "text": [
      "{20, '20'}\n",
      "2\n"
     ]
    }
   ],
   "source": [
    "s = set()\n",
    "\n",
    "s.add(20)\n",
    "s.add(20.0)\n",
    "s.add('20')\n",
    "\n",
    "print(s)\n",
    "print(len(s))"
   ]
  },
  {
   "cell_type": "code",
   "execution_count": 2,
   "metadata": {},
   "outputs": [
    {
     "name": "stdout",
     "output_type": "stream",
     "text": [
      "jay , python\n",
      "ray , java\n",
      "shrey , c\n",
      "clay , kotlin\n",
      "{'jay': 'python', 'ray': 'java', 'shrey': 'c', 'clay': 'kotlin'}\n"
     ]
    }
   ],
   "source": [
    "# WAP create an empty dictionary. Allow 4 freinds to enter their fav lang as values and their names as keys \n",
    "\n",
    "a = {}\n",
    "\n",
    "for i in range (4):\n",
    "    key = input('enter names\\n')\n",
    "    val = input('enter language\\n')\n",
    "    print(key,',', val)\n",
    "    a.update({key : val})\n",
    "\n",
    "print(a)"
   ]
  },
  {
   "cell_type": "code",
   "execution_count": 4,
   "metadata": {},
   "outputs": [
    {
     "name": "stdout",
     "output_type": "stream",
     "text": [
      "age is not greater than 18\n"
     ]
    }
   ],
   "source": [
    "# WAP to print yes when the age entered by the user is greater than or equal to 18\n",
    "\n",
    "age = int(input('enter the age'))\n",
    "\n",
    "if(age >= 18):\n",
    "    print('yes')\n",
    "else:\n",
    "    print('age is not greater than 18')"
   ]
  },
  {
   "cell_type": "code",
   "execution_count": 7,
   "metadata": {},
   "outputs": [
    {
     "name": "stdout",
     "output_type": "stream",
     "text": [
      "[12, 15, 17, 25]\n",
      "THIS IS THE GRETAEST 25\n"
     ]
    }
   ],
   "source": [
    "# WAP to find greatest of four numbers entered by the user\n",
    "\n",
    "x = []\n",
    "a = 4\n",
    "\n",
    "\n",
    "for i in range(a):\n",
    "    num = int(input('enter the no.'))\n",
    "    x.append(num)\n",
    "print(x)\n",
    "\n",
    "if x[0]>x[1]:\n",
    "    f1 = x[0]\n",
    "else:\n",
    "    f1 = x[1]\n",
    "    \n",
    "if x[2] > x[3]:\n",
    "    f2 = x[2]\n",
    "else:\n",
    "    f2 = x[3]\n",
    "    \n",
    "if f1 > f2:\n",
    "    print(F'THIS IS THE GRETAEST {f1}')\n",
    "else:\n",
    "    print(f'THIS IS THE GRETAEST {f2}')\n",
    "  \n",
    "\n",
    "\n",
    "\n"
   ]
  },
  {
   "cell_type": "code",
   "execution_count": 4,
   "metadata": {},
   "outputs": [
    {
     "name": "stdout",
     "output_type": "stream",
     "text": [
      "[57, 35, 67]\n",
      "you are pass\n"
     ]
    }
   ],
   "source": [
    "# WAP to find out whether a student is pass or fail , if it requires total 40% and at least 33% in each subj to pass\n",
    "# assume there are 3 subj and take marks as input from the user\n",
    " \n",
    " \n",
    "# TOTAL = 100\n",
    "\n",
    "x = []\n",
    "\n",
    "for i in range(3):\n",
    "    marks = int(input('enter marks please'))\n",
    "    x.append(marks)\n",
    "print(x)\n",
    "\n",
    "if(x[0] < 33 or x[1] < 33 or x[2] < 33):\n",
    "    print('you failed')\n",
    "elif(sum(x)/3 < 40):\n",
    "    print('you are fail beacuse of total less than 40 percent')\n",
    "else:\n",
    "    print('you are pass')"
   ]
  },
  {
   "cell_type": "code",
   "execution_count": 9,
   "metadata": {},
   "outputs": [
    {
     "name": "stdout",
     "output_type": "stream",
     "text": [
      "i recently subscribe this youtube channel \n",
      "spam = True\n"
     ]
    }
   ],
   "source": [
    "# wap to detect these spam comments\n",
    "#'make a lot of money' , 'buy now' , 'subscribe this' , 'click this'\n",
    "\n",
    "\n",
    "a = 'make a lot of money'\n",
    "b = 'buy now'\n",
    "c = 'subscribe this'\n",
    "d = 'click this'\n",
    "\n",
    "str = input('enter the string')\n",
    "print(str)\n",
    "\n",
    "if a in str or b in str or c in str or d in str:\n",
    "   print(\"spam = True\")\n",
    "else:\n",
    "   print('spam = False')"
   ]
  },
  {
   "cell_type": "code",
   "execution_count": null,
   "metadata": {},
   "outputs": [],
   "source": []
  }
 ],
 "metadata": {
  "interpreter": {
   "hash": "fb4569285eef3a3450cb62085a5b1e0da4bce0af555edc33dcf29baf3acc1368"
  },
  "kernelspec": {
   "display_name": "Python 3.10.2 64-bit",
   "language": "python",
   "name": "python3"
  },
  "language_info": {
   "codemirror_mode": {
    "name": "ipython",
    "version": 3
   },
   "file_extension": ".py",
   "mimetype": "text/x-python",
   "name": "python",
   "nbconvert_exporter": "python",
   "pygments_lexer": "ipython3",
   "version": "3.10.2"
  },
  "orig_nbformat": 4
 },
 "nbformat": 4,
 "nbformat_minor": 2
}

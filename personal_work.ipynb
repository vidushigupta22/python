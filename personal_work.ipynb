{
 "cells": [
  {
   "cell_type": "code",
   "execution_count": null,
   "metadata": {},
   "outputs": [],
   "source": [
    "# ctrl+ forward slash --> used for commenting and uncommenting\n",
    "\n",
    "# windows + . --> used for applying similys\n",
    "\n",
    "# colon at the end of the statement represtents , start of the code\n",
    "\n",
    "# diference between = and == is that = is used to assign the values and == is to check the the values\n",
    "\n"
   ]
  },
  {
   "cell_type": "code",
   "execution_count": 6,
   "metadata": {},
   "outputs": [
    {
     "name": "stdout",
     "output_type": "stream",
     "text": [
      "The average of num1 and num2 is 30.0\n"
     ]
    }
   ],
   "source": [
    "# write a python program to find the average of two numbers entered by the user\n",
    "\n",
    "num1 = int(input('enter a no.'))\n",
    "num2 = int(input('enter a another no.'))\n",
    "\n",
    "print('The average of num1 and num2 is',(num1+num2)/2)"
   ]
  },
  {
   "cell_type": "code",
   "execution_count": 7,
   "metadata": {},
   "outputs": [
    {
     "name": "stdout",
     "output_type": "stream",
     "text": [
      "The square of a is 225\n"
     ]
    }
   ],
   "source": [
    "# WAP to calculate the square of the number entered by the user \n",
    "\n",
    "a = int(input('enter a number'))\n",
    "print('The square of a is', a*a)"
   ]
  },
  {
   "cell_type": "code",
   "execution_count": null,
   "metadata": {},
   "outputs": [],
   "source": []
  }
 ],
 "metadata": {
  "interpreter": {
   "hash": "5d240ba0dc525c389faa33f5dcce5b4f32b6d6aa6d70d6d2dd929bd2b09ab69f"
  },
  "kernelspec": {
   "display_name": "Python 3.10.2 64-bit",
   "language": "python",
   "name": "python3"
  },
  "language_info": {
   "codemirror_mode": {
    "name": "ipython",
    "version": 3
   },
   "file_extension": ".py",
   "mimetype": "text/x-python",
   "name": "python",
   "nbconvert_exporter": "python",
   "pygments_lexer": "ipython3",
   "version": "3.10.2"
  },
  "orig_nbformat": 4
 },
 "nbformat": 4,
 "nbformat_minor": 2
}

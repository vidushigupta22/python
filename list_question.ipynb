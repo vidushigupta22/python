{
 "cells": [
  {
   "cell_type": "code",
   "execution_count": null,
   "metadata": {},
   "outputs": [],
   "source": [
    "# create a list of size n, with random numbers from 0 to 100\n",
    "\n",
    "\n"
   ]
  },
  {
   "cell_type": "code",
   "execution_count": 1,
   "metadata": {},
   "outputs": [
    {
     "name": "stdout",
     "output_type": "stream",
     "text": [
      "[37, 52, 25, 32, 32, 6, 54, 75, 70, 4]\n"
     ]
    }
   ],
   "source": [
    "from random import randint\n",
    "\n",
    "n = int(input('size of list'))\n",
    "x = []\n",
    "\n",
    "for i in range(n):\n",
    "    val = randint(1,100) # it will pick any anumber from 0 to 100\n",
    "    x.append(val)\n",
    "print(x)\n",
    "    "
   ]
  },
  {
   "cell_type": "code",
   "execution_count": 10,
   "metadata": {},
   "outputs": [
    {
     "name": "stdout",
     "output_type": "stream",
     "text": [
      "sum 150\n",
      "mean 30.0\n",
      "maximum 50\n",
      "minimum 10\n"
     ]
    }
   ],
   "source": [
    "# calculate the mean, min, max, sum of the list\n",
    "\n",
    "y = [10,20,30,40,50]\n",
    "z = 0\n",
    "\n",
    "for i in y:\n",
    "    z = z+i\n",
    "print('sum', z)\n",
    "print('mean',z/len(y))\n",
    "print('maximum' ,max(y))\n",
    "print('minimum' ,min(y))\n"
   ]
  },
  {
   "cell_type": "code",
   "execution_count": null,
   "metadata": {},
   "outputs": [],
   "source": [
    "# generate a list of 25 elements , then create a smaller list of numbers from that list based on following conditions\n",
    "\n",
    "- number that is divisible by 3\n",
    "- number that is divisible by 5\n",
    "- number that is divisible by 3 and 5"
   ]
  },
  {
   "cell_type": "code",
   "execution_count": 13,
   "metadata": {},
   "outputs": [
    {
     "name": "stdout",
     "output_type": "stream",
     "text": [
      "[1, 2, 3, 4, 5, 6, 7, 8, 9, 10, 11, 12, 13, 14, 15, 16, 17, 18, 19, 20, 21, 22, 23, 24, 25]\n",
      "[3, 5, 6, 9, 10, 12, 15, 15, 15, 18, 20, 21, 24, 25]\n"
     ]
    }
   ],
   "source": [
    "x = list(range(1,26))\n",
    "print(x)\n",
    "\n",
    "xs = []\n",
    "\n",
    "for i in x:\n",
    "    if (i % 3 == 0 and i % 5 == 0):\n",
    "        xs.append(i)\n",
    "    if(i % 3 == 0 ):\n",
    "        xs.append(i)\n",
    "    if(i % 5 == 0):\n",
    "        xs.append(i)\n",
    "print(xs)"
   ]
  },
  {
   "cell_type": "code",
   "execution_count": 22,
   "metadata": {},
   "outputs": [
    {
     "name": "stdout",
     "output_type": "stream",
     "text": [
      "[200, 201, 202, 203, 204, 205, 206, 207, 208, 209, 210, 211, 212, 213, 214, 215, 216, 217, 218, 219, 220, 221, 222, 223, 224, 225]\n",
      "[201, 202, 203, 205, 206, 207, 209, 210, 211, 213, 214, 215, 217, 218, 219, 221, 222, 223, 225]\n"
     ]
    }
   ],
   "source": [
    "# remove every 3rd element from the list of size 25 and display and print the list \n",
    "\n",
    "x = list(range(200,226))\n",
    "print(x)\n",
    "\n",
    "\n",
    "for idx,val in enumerate(x):\n",
    "    if idx % 3 == 0:\n",
    "        x.pop(idx)\n",
    "print(x)\n",
    "\n",
    "        \n",
    "        \n",
    "        \n",
    "        \n"
   ]
  },
  {
   "cell_type": "code",
   "execution_count": 31,
   "metadata": {},
   "outputs": [
    {
     "name": "stdout",
     "output_type": "stream",
     "text": [
      "['gun', 'hour', 'jack', 'point', 'rush', 'saga', 'smash', 'sparrow', 'the', 'twilight']\n"
     ]
    }
   ],
   "source": [
    "# take names of 10 movies from user and store them in a list, then display the list in sorted order\n",
    "\n",
    "x = 10\n",
    "y= []\n",
    "\n",
    "for i in range(x):\n",
    "    movie = input('enter the movie name ')\n",
    "    y.append(movie)\n",
    "    y.sort()\n",
    "    \n",
    "print(y)"
   ]
  },
  {
   "cell_type": "code",
   "execution_count": null,
   "metadata": {},
   "outputs": [],
   "source": []
  },
  {
   "cell_type": "code",
   "execution_count": null,
   "metadata": {},
   "outputs": [],
   "source": []
  },
  {
   "cell_type": "code",
   "execution_count": null,
   "metadata": {},
   "outputs": [],
   "source": []
  }
 ],
 "metadata": {
  "interpreter": {
   "hash": "fb4569285eef3a3450cb62085a5b1e0da4bce0af555edc33dcf29baf3acc1368"
  },
  "kernelspec": {
   "display_name": "Python 3.10.2 64-bit",
   "language": "python",
   "name": "python3"
  },
  "language_info": {
   "codemirror_mode": {
    "name": "ipython",
    "version": 3
   },
   "file_extension": ".py",
   "mimetype": "text/x-python",
   "name": "python",
   "nbconvert_exporter": "python",
   "pygments_lexer": "ipython3",
   "version": "3.10.2"
  },
  "orig_nbformat": 4
 },
 "nbformat": 4,
 "nbformat_minor": 2
}

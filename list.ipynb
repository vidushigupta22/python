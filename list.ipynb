{
 "cells": [
  {
   "cell_type": "code",
   "execution_count": 2,
   "metadata": {},
   "outputs": [
    {
     "name": "stdout",
     "output_type": "stream",
     "text": [
      "['h', 'i', '_', 'm', 'y', '_', 'n', 'a', 'm', 'e', '_', 'i', 's', '_', 'v', 'i', 'd', 'u', 's', 'h', 'i']\n"
     ]
    }
   ],
   "source": [
    "x = 'hi_my_name_is_vidushi'\n",
    "y = list(x)\n",
    "print(y)\n"
   ]
  },
  {
   "cell_type": "code",
   "execution_count": 4,
   "metadata": {},
   "outputs": [
    {
     "name": "stdout",
     "output_type": "stream",
     "text": [
      "[0, 1, 2, 3, 4, 5, 6, 7, 8, 9, 10, 11, 12, 13, 14, 15, 16, 17, 18, 19, 20, 21, 22, 23, 24, 25, 26, 27, 28, 29, 30, 31, 32, 33, 34, 35, 36, 37, 38, 39, 40, 41, 42, 43, 44, 45, 46, 47, 48, 49, 50, 51, 52, 53, 54, 55, 56, 57, 58, 59, 60, 61, 62, 63, 64, 65, 66, 67, 68, 69, 70, 71, 72, 73, 74, 75, 76, 77, 78, 79, 80, 81, 82, 83, 84, 85, 86, 87, 88, 89, 90, 91, 92, 93, 94, 95, 96, 97, 98, 99]\n"
     ]
    }
   ],
   "source": [
    "z = list(range(100))\n",
    "print(z)"
   ]
  },
  {
   "cell_type": "code",
   "execution_count": 7,
   "metadata": {},
   "outputs": [
    {
     "name": "stdout",
     "output_type": "stream",
     "text": [
      "h\n",
      "i\n",
      "hi_my_name\n"
     ]
    }
   ],
   "source": [
    "# to extract elements from the list\n",
    "\n",
    "print(x[0])\n",
    "print(x[-1])\n",
    "print(x[0:10])"
   ]
  },
  {
   "cell_type": "code",
   "execution_count": null,
   "metadata": {},
   "outputs": [],
   "source": [
    "# LIST METHODS\n",
    "\n",
    "- functions that add items\n",
    "  #append\n",
    "  #insert\n",
    "  #extend\n",
    "  \n",
    "-functions that remove items\n",
    " #remove\n",
    " #pop\n",
    " #clear\n",
    " \n",
    "-functions that change tems\n",
    " #copy\n",
    " #sort\n",
    " #reverse\n",
    " #index\n",
    " #count"
   ]
  },
  {
   "cell_type": "code",
   "execution_count": 9,
   "metadata": {},
   "outputs": [
    {
     "name": "stdout",
     "output_type": "stream",
     "text": [
      "['alchemist', 'ikigai', 'dale carneigie', 'the diary of the young girl', 'the great gatsby']\n"
     ]
    }
   ],
   "source": [
    "books = ['alchemist',\n",
    "         'ikigai',\n",
    "         'dale carneigie',\n",
    "         'the diary of the young girl']\n",
    "\n",
    "# now if you want to add any new items in the list, one can use 'append function'\n",
    "\n",
    "books.append('the great gatsby')\n",
    "print(books)"
   ]
  },
  {
   "cell_type": "code",
   "execution_count": 11,
   "metadata": {},
   "outputs": [
    {
     "name": "stdout",
     "output_type": "stream",
     "text": [
      "['alchemist', 'ikigai', 'dale carneigie', 'the diary of the young girl', 'the great gatsby', 'zero to one', 'zero to one']\n"
     ]
    }
   ],
   "source": [
    "y = 'zero to one'\n",
    "books.append(y)\n",
    "print(books)"
   ]
  },
  {
   "cell_type": "code",
   "execution_count": 15,
   "metadata": {},
   "outputs": [
    {
     "name": "stdout",
     "output_type": "stream",
     "text": [
      "[1, 22, 33, 44, 55, 66, 77, 888, 99, 11]\n"
     ]
    }
   ],
   "source": [
    "numbers = []\n",
    "\n",
    "for i in range(10):\n",
    "    val = int(input('enter a no.'))\n",
    "    numbers.append(val)\n",
    "print(numbers)"
   ]
  },
  {
   "cell_type": "code",
   "execution_count": 16,
   "metadata": {},
   "outputs": [
    {
     "name": "stdout",
     "output_type": "stream",
     "text": [
      "['yellow', 'brown', 'pink', 'orange']\n"
     ]
    }
   ],
   "source": [
    "colors = ['yellow','brown','pink','orange']\n",
    "colors.reverse\n",
    "print(colors)"
   ]
  },
  {
   "cell_type": "code",
   "execution_count": 17,
   "metadata": {},
   "outputs": [
    {
     "data": {
      "text/plain": [
       "1"
      ]
     },
     "execution_count": 17,
     "metadata": {},
     "output_type": "execute_result"
    }
   ],
   "source": [
    "colors.index('brown')"
   ]
  },
  {
   "cell_type": "code",
   "execution_count": 19,
   "metadata": {},
   "outputs": [
    {
     "name": "stdout",
     "output_type": "stream",
     "text": [
      "2\n"
     ]
    }
   ],
   "source": [
    "color = input('enter any color')\n",
    "\n",
    "if color in colors:\n",
    "    print(colors.index(color))"
   ]
  },
  {
   "cell_type": "code",
   "execution_count": null,
   "metadata": {},
   "outputs": [],
   "source": []
  }
 ],
 "metadata": {
  "interpreter": {
   "hash": "fb4569285eef3a3450cb62085a5b1e0da4bce0af555edc33dcf29baf3acc1368"
  },
  "kernelspec": {
   "display_name": "Python 3.10.2 64-bit",
   "language": "python",
   "name": "python3"
  },
  "language_info": {
   "codemirror_mode": {
    "name": "ipython",
    "version": 3
   },
   "file_extension": ".py",
   "mimetype": "text/x-python",
   "name": "python",
   "nbconvert_exporter": "python",
   "pygments_lexer": "ipython3",
   "version": "3.10.2"
  },
  "orig_nbformat": 4
 },
 "nbformat": 4,
 "nbformat_minor": 2
}
